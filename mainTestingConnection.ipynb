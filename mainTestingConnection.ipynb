{
 "cells": [
  {
   "cell_type": "code",
   "execution_count": 3,
   "metadata": {},
   "outputs": [],
   "source": [
    "import cx_Oracle\n",
    "\n",
    "conStr = 'system/oracle@localhost:1521/xe'\n",
    "\n",
    "conn = cx_Oracle.connect(conStr)\n",
    "\n",
    "cur = conn.cursor()\n",
    "\n",
    "sqlTxt = 'insert into \"TEST1\".country (name) values (:1)'\n",
    "\n",
    "cur.execute(sqlTxt, ('nemackaaa2123123',))\n",
    "\n",
    "conn.commit()\n",
    "\n",
    "cur.close()\n",
    "conn.close()"
   ]
  },
  {
   "cell_type": "code",
   "execution_count": 6,
   "metadata": {},
   "outputs": [
    {
     "name": "stdout",
     "output_type": "stream",
     "text": [
      "[(24, 'proba dal hoce'), (25, 'proba dal hoce'), (26, 'proba dal hoce'), (27, 'proba dal hoce'), (28, 'proba dal hoce'), (30, 'proba dal hoce'), (31, 'nemackaaa2'), (41, 'nemackaaa2'), (42, 'nemackaaa2'), (43, 'nemackaaa2'), (44, 'nemackaaa2123123'), (1, 'srbija'), (2, 'srbija'), (3, 'srbija'), (4, 'nemacka'), (5, 'nemacka'), (6, 'nemackaaa'), (7, 'nemackaaa'), (21, 'nemackaaa'), (22, 'nemackaaa'), (23, 'nemackaaa'), (29, 'nemackaaa2')]\n",
      "    ID              NAME\n",
      "0   24    proba dal hoce\n",
      "1   25    proba dal hoce\n",
      "2   26    proba dal hoce\n",
      "3   27    proba dal hoce\n",
      "4   28    proba dal hoce\n",
      "5   30    proba dal hoce\n",
      "6   31        nemackaaa2\n",
      "7   41        nemackaaa2\n",
      "8   42        nemackaaa2\n",
      "9   43        nemackaaa2\n",
      "10  44  nemackaaa2123123\n",
      "11   1            srbija\n",
      "12   2            srbija\n",
      "13   3            srbija\n",
      "14   4           nemacka\n",
      "15   5           nemacka\n",
      "16   6         nemackaaa\n",
      "17   7         nemackaaa\n",
      "18  21         nemackaaa\n",
      "19  22         nemackaaa\n",
      "20  23         nemackaaa\n",
      "21  29        nemackaaa2\n"
     ]
    }
   ],
   "source": [
    "import cx_Oracle\n",
    "import pandas as pd\n",
    "\n",
    "conStr = 'system/oracle@localhost:1521/xe'\n",
    "\n",
    "conn = cx_Oracle.connect(conStr)\n",
    "\n",
    "cur = conn.cursor()\n",
    "\n",
    "sqlTxt = 'select * from \"TEST1\".country'\n",
    "cur.execute(sqlTxt)\n",
    "\n",
    "record = cur.fetchall()\n",
    "print(record)\n",
    "\n",
    "df= pd.DataFrame.from_records(record, columns = [x[0] for x in cur.description] )\n",
    "print(df)\n",
    "cur.close()\n",
    "conn.close()"
   ]
  },
  {
   "cell_type": "code",
   "execution_count": null,
   "metadata": {},
   "outputs": [],
   "source": []
  },
  {
   "cell_type": "code",
   "execution_count": 7,
   "metadata": {},
   "outputs": [],
   "source": [
    "import cx_Oracle\n",
    "\n",
    "conStr = 'odidata/oracle@localhost:1521/xe'\n",
    "\n",
    "conn = cx_Oracle.connect(conStr)\n",
    "\n",
    "cur = conn.cursor()\n",
    "\n",
    "sqlTxt = 'insert into \"TEST1\".country (name) values (:1)'\n",
    "\n",
    "cur.execute(sqlTxt, ('nemackaaa',))\n",
    "\n",
    "conn.commit()\n",
    "\n",
    "cur.close()\n",
    "conn.close()"
   ]
  },
  {
   "cell_type": "code",
   "execution_count": 4,
   "metadata": {},
   "outputs": [
    {
     "name": "stdout",
     "output_type": "stream",
     "text": [
      "[(24, 'proba dal hoce'), (25, 'proba dal hoce'), (26, 'proba dal hoce'), (27, 'proba dal hoce'), (28, 'proba dal hoce'), (30, 'proba dal hoce'), (31, 'nemackaaa2'), (62, 'nemackaaa2123123'), (41, 'nemackaaa2'), (42, 'nemackaaa2'), (43, 'nemackaaa2'), (44, 'nemackaaa2123123'), (45, 'nemackaaa'), (1, 'srbija'), (2, 'srbija'), (61, 'nemackaaa2123123'), (3, 'srbija'), (4, 'nemacka'), (5, 'nemacka'), (6, 'nemackaaa'), (7, 'nemackaaa'), (21, 'nemackaaa'), (22, 'nemackaaa'), (23, 'nemackaaa'), (29, 'nemackaaa2')]\n",
      "    ID              NAME\n",
      "0   24    proba dal hoce\n",
      "1   25    proba dal hoce\n",
      "2   26    proba dal hoce\n",
      "3   27    proba dal hoce\n",
      "4   28    proba dal hoce\n",
      "5   30    proba dal hoce\n",
      "6   31        nemackaaa2\n",
      "7   62  nemackaaa2123123\n",
      "8   41        nemackaaa2\n",
      "9   42        nemackaaa2\n",
      "10  43        nemackaaa2\n",
      "11  44  nemackaaa2123123\n",
      "12  45         nemackaaa\n",
      "13   1            srbija\n",
      "14   2            srbija\n",
      "15  61  nemackaaa2123123\n",
      "16   3            srbija\n",
      "17   4           nemacka\n",
      "18   5           nemacka\n",
      "19   6         nemackaaa\n",
      "20   7         nemackaaa\n",
      "21  21         nemackaaa\n",
      "22  22         nemackaaa\n",
      "23  23         nemackaaa\n",
      "24  29        nemackaaa2\n"
     ]
    }
   ],
   "source": [
    "import cx_Oracle\n",
    "import pandas as pd\n",
    "\n",
    "conStr = 'odidata/oracle@localhost:1521/xe'\n",
    "\n",
    "conn = cx_Oracle.connect(conStr)\n",
    "\n",
    "cur = conn.cursor()\n",
    "\n",
    "sqlTxt = 'select * from \"TEST1\".country'\n",
    "cur.execute(sqlTxt)\n",
    "\n",
    "record = cur.fetchall()\n",
    "print(record)\n",
    "\n",
    "df= pd.DataFrame.from_records(record, columns = [x[0] for x in cur.description] )\n",
    "print(df)\n",
    "cur.close()\n",
    "conn.close()"
   ]
  },
  {
   "cell_type": "code",
   "execution_count": null,
   "metadata": {},
   "outputs": [],
   "source": []
  },
  {
   "cell_type": "code",
   "execution_count": null,
   "metadata": {},
   "outputs": [],
   "source": []
  },
  {
   "cell_type": "code",
   "execution_count": 1,
   "metadata": {},
   "outputs": [
    {
     "name": "stdout",
     "output_type": "stream",
     "text": [
      "[(1, 'p-e', 1)]\n",
      "   CITY_ID CITY_NAME  COUNTRY_ID\n",
      "0        1       p-e           1\n"
     ]
    }
   ],
   "source": [
    "import cx_Oracle\n",
    "import pandas as pd\n",
    "\n",
    "conStr = 'system/oracle@localhost:1521/xe'\n",
    "\n",
    "conn = cx_Oracle.connect(conStr)\n",
    "\n",
    "cur = conn.cursor()\n",
    "\n",
    "sqlTxt = 'select * from \"TEST1\".src_city'\n",
    "cur.execute(sqlTxt)\n",
    "\n",
    "record = cur.fetchall()\n",
    "print(record)\n",
    "\n",
    "df= pd.DataFrame.from_records(record, columns = [x[0] for x in cur.description] )\n",
    "print(df)\n",
    "cur.close()\n",
    "conn.close()"
   ]
  },
  {
   "cell_type": "code",
   "execution_count": 2,
   "metadata": {},
   "outputs": [
    {
     "data": {
      "text/html": [
       "<div>\n",
       "<style scoped>\n",
       "    .dataframe tbody tr th:only-of-type {\n",
       "        vertical-align: middle;\n",
       "    }\n",
       "\n",
       "    .dataframe tbody tr th {\n",
       "        vertical-align: top;\n",
       "    }\n",
       "\n",
       "    .dataframe thead th {\n",
       "        text-align: right;\n",
       "    }\n",
       "</style>\n",
       "<table border=\"1\" class=\"dataframe\">\n",
       "  <thead>\n",
       "    <tr style=\"text-align: right;\">\n",
       "      <th></th>\n",
       "      <th>CITY_ID</th>\n",
       "      <th>CITY_NAME</th>\n",
       "      <th>COUNTRY_ID</th>\n",
       "    </tr>\n",
       "  </thead>\n",
       "  <tbody>\n",
       "    <tr>\n",
       "      <th>0</th>\n",
       "      <td>1</td>\n",
       "      <td>p-e</td>\n",
       "      <td>1</td>\n",
       "    </tr>\n",
       "  </tbody>\n",
       "</table>\n",
       "</div>"
      ],
      "text/plain": [
       "   CITY_ID CITY_NAME  COUNTRY_ID\n",
       "0        1       p-e           1"
      ]
     },
     "execution_count": 2,
     "metadata": {},
     "output_type": "execute_result"
    }
   ],
   "source": [
    "df"
   ]
  },
  {
   "cell_type": "markdown",
   "metadata": {},
   "source": []
  }
 ],
 "metadata": {
  "kernelspec": {
   "display_name": "base",
   "language": "python",
   "name": "python3"
  },
  "language_info": {
   "codemirror_mode": {
    "name": "ipython",
    "version": 3
   },
   "file_extension": ".py",
   "mimetype": "text/x-python",
   "name": "python",
   "nbconvert_exporter": "python",
   "pygments_lexer": "ipython3",
   "version": "3.9.7"
  },
  "orig_nbformat": 4,
  "vscode": {
   "interpreter": {
    "hash": "e1601fcc101a5bb667248cc359321e81417357eafad225b63c8a8f2d6fbd6674"
   }
  }
 },
 "nbformat": 4,
 "nbformat_minor": 2
}
