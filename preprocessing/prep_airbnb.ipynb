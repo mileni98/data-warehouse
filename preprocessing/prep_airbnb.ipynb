{
 "cells": [
  {
   "attachments": {},
   "cell_type": "markdown",
   "metadata": {},
   "source": [
    "## Airbnb Data Preprocessing"
   ]
  },
  {
   "cell_type": "code",
   "execution_count": 1,
   "metadata": {
    "execution": {
     "iopub.execute_input": "2023-05-10T11:44:29.190730Z",
     "iopub.status.busy": "2023-05-10T11:44:29.189764Z",
     "iopub.status.idle": "2023-05-10T11:44:29.518763Z",
     "shell.execute_reply": "2023-05-10T11:44:29.518763Z"
    }
   },
   "outputs": [],
   "source": [
    "import pandas as pd\n",
    "import os\n",
    "from names_dataset import NameDataset"
   ]
  },
  {
   "attachments": {},
   "cell_type": "markdown",
   "metadata": {},
   "source": [
    "Acquiring all airbnb file names"
   ]
  },
  {
   "cell_type": "code",
   "execution_count": 2,
   "metadata": {
    "execution": {
     "iopub.execute_input": "2023-05-10T11:44:29.522765Z",
     "iopub.status.busy": "2023-05-10T11:44:29.521728Z",
     "iopub.status.idle": "2023-05-10T11:44:29.534765Z",
     "shell.execute_reply": "2023-05-10T11:44:29.533764Z"
    }
   },
   "outputs": [
    {
     "data": {
      "text/plain": [
       "['Airbnb_2019.xlsx',\n",
       " 'Airbnb_2020.xlsx',\n",
       " 'Airbnb_2021.xlsx',\n",
       " 'Airbnb_2022.xlsx']"
      ]
     },
     "execution_count": 2,
     "metadata": {},
     "output_type": "execute_result"
    }
   ],
   "source": [
    "path = './original files/'\n",
    "excel_files = []\n",
    "\n",
    "for file in os.listdir(path):\n",
    "    if file.startswith('Airbnb') and file.endswith('.xlsx'):\n",
    "        excel_files.append(file)\n",
    "\n",
    "excel_files"
   ]
  },
  {
   "attachments": {},
   "cell_type": "markdown",
   "metadata": {},
   "source": [
    "Formatting 'Guest name' and 'Earnings' columns"
   ]
  },
  {
   "cell_type": "code",
   "execution_count": 3,
   "metadata": {
    "execution": {
     "iopub.execute_input": "2023-05-10T11:44:29.537730Z",
     "iopub.status.busy": "2023-05-10T11:44:29.537730Z",
     "iopub.status.idle": "2023-05-10T11:44:29.550763Z",
     "shell.execute_reply": "2023-05-10T11:44:29.550763Z"
    }
   },
   "outputs": [],
   "source": [
    "# function to convert cp1252 format to UTF-8 format\n",
    "def cp2utf(name):\n",
    "    try:\n",
    "        return name.encode('cp1252').decode('UTF-8')\n",
    "    except Exception as e:\n",
    "        print(f'error: {e} for name {name}')\n",
    "        return name"
   ]
  },
  {
   "cell_type": "code",
   "execution_count": 4,
   "metadata": {
    "execution": {
     "iopub.execute_input": "2023-05-10T11:44:29.554767Z",
     "iopub.status.busy": "2023-05-10T11:44:29.553765Z",
     "iopub.status.idle": "2023-05-10T11:44:30.183700Z",
     "shell.execute_reply": "2023-05-10T11:44:30.183700Z"
    }
   },
   "outputs": [
    {
     "name": "stdout",
     "output_type": "stream",
     "text": [
      "error: 'charmap' codec can't encode characters in position 0-5: character maps to <undefined> for name Андрій Щур\n"
     ]
    }
   ],
   "source": [
    "for file in excel_files:\n",
    "    df = pd.read_excel(path + file)\n",
    "    df['Guest name'] = df['Guest name'].apply(lambda x: cp2utf(x))\n",
    "    df['Earnings'] = df['Earnings'].apply(lambda x: float(x[3:].strip()))\n",
    "    df.to_excel(path + f'codec_{file}')"
   ]
  },
  {
   "attachments": {},
   "cell_type": "markdown",
   "metadata": {},
   "source": [
    "Combining formated airbnb excel files into one"
   ]
  },
  {
   "cell_type": "code",
   "execution_count": 5,
   "metadata": {
    "execution": {
     "iopub.execute_input": "2023-05-10T11:44:30.188698Z",
     "iopub.status.busy": "2023-05-10T11:44:30.187697Z",
     "iopub.status.idle": "2023-05-10T11:44:30.294700Z",
     "shell.execute_reply": "2023-05-10T11:44:30.294700Z"
    }
   },
   "outputs": [],
   "source": [
    "df = pd.DataFrame()\n",
    "\n",
    "for file in os.listdir(path):\n",
    "    if file.startswith('codec_') and file.endswith('.xlsx'):\n",
    "        df = pd.concat([df, pd.read_excel(path + file, index_col = 0)], ignore_index = True)\n",
    "\n",
    "df.to_excel(path + 'combinedAirbnb.xlsx')"
   ]
  },
  {
   "attachments": {},
   "cell_type": "markdown",
   "metadata": {},
   "source": [
    "Combining data frame with ApartmentTypes.txt"
   ]
  },
  {
   "cell_type": "code",
   "execution_count": 6,
   "metadata": {
    "execution": {
     "iopub.execute_input": "2023-05-10T11:44:30.299698Z",
     "iopub.status.busy": "2023-05-10T11:44:30.299698Z",
     "iopub.status.idle": "2023-05-10T11:44:30.358711Z",
     "shell.execute_reply": "2023-05-10T11:44:30.357700Z"
    }
   },
   "outputs": [
    {
     "data": {
      "text/html": [
       "<div>\n",
       "<style scoped>\n",
       "    .dataframe tbody tr th:only-of-type {\n",
       "        vertical-align: middle;\n",
       "    }\n",
       "\n",
       "    .dataframe tbody tr th {\n",
       "        vertical-align: top;\n",
       "    }\n",
       "\n",
       "    .dataframe thead th {\n",
       "        text-align: right;\n",
       "    }\n",
       "</style>\n",
       "<table border=\"1\" class=\"dataframe\">\n",
       "  <thead>\n",
       "    <tr style=\"text-align: right;\">\n",
       "      <th></th>\n",
       "      <th>Confirmation code</th>\n",
       "      <th>Status</th>\n",
       "      <th>Guest name</th>\n",
       "      <th># of adults</th>\n",
       "      <th># of children</th>\n",
       "      <th># of infants</th>\n",
       "      <th>Start date</th>\n",
       "      <th>End date</th>\n",
       "      <th># of nights</th>\n",
       "      <th>Booked</th>\n",
       "      <th>Listing description</th>\n",
       "      <th>Earnings</th>\n",
       "      <th>Listing code</th>\n",
       "      <th>Contact</th>\n",
       "      <th># of beds</th>\n",
       "      <th>Listing name</th>\n",
       "    </tr>\n",
       "  </thead>\n",
       "  <tbody>\n",
       "    <tr>\n",
       "      <th>0</th>\n",
       "      <td>HMANM3BZNK</td>\n",
       "      <td>Confirmed</td>\n",
       "      <td>Egor Zhidkov</td>\n",
       "      <td>2</td>\n",
       "      <td>0</td>\n",
       "      <td>0</td>\n",
       "      <td>2019-06-20</td>\n",
       "      <td>2019-06-22</td>\n",
       "      <td>2</td>\n",
       "      <td>2019-03-28</td>\n",
       "      <td>Beautiful studio with patio 5 min. to old town</td>\n",
       "      <td>67.90</td>\n",
       "      <td>B</td>\n",
       "      <td>NaN</td>\n",
       "      <td>2</td>\n",
       "      <td>Studio with Patio</td>\n",
       "    </tr>\n",
       "    <tr>\n",
       "      <th>1</th>\n",
       "      <td>HMAMP59PS4</td>\n",
       "      <td>Confirmed</td>\n",
       "      <td>Youstina Daoud</td>\n",
       "      <td>2</td>\n",
       "      <td>0</td>\n",
       "      <td>0</td>\n",
       "      <td>2019-06-03</td>\n",
       "      <td>2019-06-05</td>\n",
       "      <td>2</td>\n",
       "      <td>2019-03-30</td>\n",
       "      <td>Beautiful studio with patio 5 min. to old town</td>\n",
       "      <td>67.90</td>\n",
       "      <td>B</td>\n",
       "      <td>NaN</td>\n",
       "      <td>2</td>\n",
       "      <td>Studio with Patio</td>\n",
       "    </tr>\n",
       "    <tr>\n",
       "      <th>2</th>\n",
       "      <td>HMAC8EWZ3P</td>\n",
       "      <td>Confirmed</td>\n",
       "      <td>Öznur Balaban</td>\n",
       "      <td>2</td>\n",
       "      <td>0</td>\n",
       "      <td>0</td>\n",
       "      <td>2019-06-08</td>\n",
       "      <td>2019-06-09</td>\n",
       "      <td>1</td>\n",
       "      <td>2019-04-09</td>\n",
       "      <td>Beautiful studio with patio 5 min. to old town</td>\n",
       "      <td>33.95</td>\n",
       "      <td>B</td>\n",
       "      <td>NaN</td>\n",
       "      <td>2</td>\n",
       "      <td>Studio with Patio</td>\n",
       "    </tr>\n",
       "  </tbody>\n",
       "</table>\n",
       "</div>"
      ],
      "text/plain": [
       "  Confirmation code     Status      Guest name  # of adults  # of children  \\\n",
       "0        HMANM3BZNK  Confirmed    Egor Zhidkov            2              0   \n",
       "1        HMAMP59PS4  Confirmed  Youstina Daoud            2              0   \n",
       "2        HMAC8EWZ3P  Confirmed   Öznur Balaban            2              0   \n",
       "\n",
       "   # of infants Start date   End date  # of nights     Booked  \\\n",
       "0             0 2019-06-20 2019-06-22            2 2019-03-28   \n",
       "1             0 2019-06-03 2019-06-05            2 2019-03-30   \n",
       "2             0 2019-06-08 2019-06-09            1 2019-04-09   \n",
       "\n",
       "                              Listing description  Earnings Listing code  \\\n",
       "0  Beautiful studio with patio 5 min. to old town     67.90            B   \n",
       "1  Beautiful studio with patio 5 min. to old town     67.90            B   \n",
       "2  Beautiful studio with patio 5 min. to old town     33.95            B   \n",
       "\n",
       "  Contact  # of beds       Listing name  \n",
       "0     NaN          2  Studio with Patio  \n",
       "1     NaN          2  Studio with Patio  \n",
       "2     NaN          2  Studio with Patio  "
      ]
     },
     "execution_count": 6,
     "metadata": {},
     "output_type": "execute_result"
    }
   ],
   "source": [
    "df = pd.read_excel(path + 'combinedAirbnb.xlsx', index_col = 0)\n",
    "df_listing = pd.read_csv(path + 'ApartmentTypes.txt', index_col = 'InterniNaziv')\n",
    "\n",
    "df.rename(columns = {'Listing' : 'Listing description', 'Listing name' : 'Listing code'}, inplace = True)\n",
    "\n",
    "df['# of beds'] = (df_listing.loc[df['Listing code'], 'BrojKreveta']).to_numpy()\n",
    "df['Listing name'] = (df_listing.loc[df['Listing code'], 'Naziv']).to_numpy()\n",
    "\n",
    "df.head(3)"
   ]
  },
  {
   "attachments": {},
   "cell_type": "markdown",
   "metadata": {},
   "source": [
    "Dropping insignificant columns and columns with one unique value"
   ]
  },
  {
   "cell_type": "code",
   "execution_count": 7,
   "metadata": {
    "execution": {
     "iopub.execute_input": "2023-05-10T11:44:30.364720Z",
     "iopub.status.busy": "2023-05-10T11:44:30.363698Z",
     "iopub.status.idle": "2023-05-10T11:44:30.373750Z",
     "shell.execute_reply": "2023-05-10T11:44:30.373750Z"
    }
   },
   "outputs": [
    {
     "name": "stdout",
     "output_type": "stream",
     "text": [
      "Column name: # of children | Value: 0\n",
      "Column name: # of infants | Value: 0\n"
     ]
    }
   ],
   "source": [
    "drop_columns = []\n",
    "\n",
    "for column in df.columns:\n",
    "    if (len(df[column].unique()) == 1):\n",
    "        drop_columns.append(column)\n",
    "        print('Column name:', column, '| Value:', *(df[column].unique())) "
   ]
  },
  {
   "cell_type": "code",
   "execution_count": 8,
   "metadata": {
    "execution": {
     "iopub.execute_input": "2023-05-10T11:44:30.377699Z",
     "iopub.status.busy": "2023-05-10T11:44:30.377699Z",
     "iopub.status.idle": "2023-05-10T11:44:30.389699Z",
     "shell.execute_reply": "2023-05-10T11:44:30.389699Z"
    }
   },
   "outputs": [],
   "source": [
    "df.rename(columns = {'# of adults' : '# of guests'}, inplace = True)"
   ]
  },
  {
   "cell_type": "code",
   "execution_count": 9,
   "metadata": {
    "execution": {
     "iopub.execute_input": "2023-05-10T11:44:30.400699Z",
     "iopub.status.busy": "2023-05-10T11:44:30.399700Z",
     "iopub.status.idle": "2023-05-10T11:44:30.406050Z",
     "shell.execute_reply": "2023-05-10T11:44:30.406050Z"
    }
   },
   "outputs": [
    {
     "data": {
      "text/html": [
       "<div>\n",
       "<style scoped>\n",
       "    .dataframe tbody tr th:only-of-type {\n",
       "        vertical-align: middle;\n",
       "    }\n",
       "\n",
       "    .dataframe tbody tr th {\n",
       "        vertical-align: top;\n",
       "    }\n",
       "\n",
       "    .dataframe thead th {\n",
       "        text-align: right;\n",
       "    }\n",
       "</style>\n",
       "<table border=\"1\" class=\"dataframe\">\n",
       "  <thead>\n",
       "    <tr style=\"text-align: right;\">\n",
       "      <th></th>\n",
       "      <th>Status</th>\n",
       "      <th>Guest name</th>\n",
       "      <th># of guests</th>\n",
       "      <th>Start date</th>\n",
       "      <th>End date</th>\n",
       "      <th># of nights</th>\n",
       "      <th>Booked</th>\n",
       "      <th>Earnings</th>\n",
       "      <th># of beds</th>\n",
       "      <th>Listing name</th>\n",
       "    </tr>\n",
       "  </thead>\n",
       "  <tbody>\n",
       "    <tr>\n",
       "      <th>0</th>\n",
       "      <td>Confirmed</td>\n",
       "      <td>Egor Zhidkov</td>\n",
       "      <td>2</td>\n",
       "      <td>2019-06-20</td>\n",
       "      <td>2019-06-22</td>\n",
       "      <td>2</td>\n",
       "      <td>2019-03-28</td>\n",
       "      <td>67.90</td>\n",
       "      <td>2</td>\n",
       "      <td>Studio with Patio</td>\n",
       "    </tr>\n",
       "    <tr>\n",
       "      <th>1</th>\n",
       "      <td>Confirmed</td>\n",
       "      <td>Youstina Daoud</td>\n",
       "      <td>2</td>\n",
       "      <td>2019-06-03</td>\n",
       "      <td>2019-06-05</td>\n",
       "      <td>2</td>\n",
       "      <td>2019-03-30</td>\n",
       "      <td>67.90</td>\n",
       "      <td>2</td>\n",
       "      <td>Studio with Patio</td>\n",
       "    </tr>\n",
       "    <tr>\n",
       "      <th>2</th>\n",
       "      <td>Confirmed</td>\n",
       "      <td>Öznur Balaban</td>\n",
       "      <td>2</td>\n",
       "      <td>2019-06-08</td>\n",
       "      <td>2019-06-09</td>\n",
       "      <td>1</td>\n",
       "      <td>2019-04-09</td>\n",
       "      <td>33.95</td>\n",
       "      <td>2</td>\n",
       "      <td>Studio with Patio</td>\n",
       "    </tr>\n",
       "  </tbody>\n",
       "</table>\n",
       "</div>"
      ],
      "text/plain": [
       "      Status      Guest name  # of guests Start date   End date  # of nights  \\\n",
       "0  Confirmed    Egor Zhidkov            2 2019-06-20 2019-06-22            2   \n",
       "1  Confirmed  Youstina Daoud            2 2019-06-03 2019-06-05            2   \n",
       "2  Confirmed   Öznur Balaban            2 2019-06-08 2019-06-09            1   \n",
       "\n",
       "      Booked  Earnings  # of beds       Listing name  \n",
       "0 2019-03-28     67.90          2  Studio with Patio  \n",
       "1 2019-03-30     67.90          2  Studio with Patio  \n",
       "2 2019-04-09     33.95          2  Studio with Patio  "
      ]
     },
     "execution_count": 9,
     "metadata": {},
     "output_type": "execute_result"
    }
   ],
   "source": [
    "drop_columns.append('Listing description')\n",
    "drop_columns.append('Listing code')\n",
    "drop_columns.append('Confirmation code')\n",
    "drop_columns.append('Contact')\n",
    "\n",
    "df.drop(columns = drop_columns, inplace = True)\n",
    "\n",
    "df.head(3)"
   ]
  },
  {
   "attachments": {},
   "cell_type": "markdown",
   "metadata": {},
   "source": [
    "Calculating number of days prebooked, taxes and deducting them from earnings"
   ]
  },
  {
   "cell_type": "code",
   "execution_count": 10,
   "metadata": {
    "execution": {
     "iopub.execute_input": "2023-05-10T11:44:30.418017Z",
     "iopub.status.busy": "2023-05-10T11:44:30.411013Z",
     "iopub.status.idle": "2023-05-10T11:44:30.436640Z",
     "shell.execute_reply": "2023-05-10T11:44:30.436640Z"
    }
   },
   "outputs": [
    {
     "data": {
      "text/html": [
       "<div>\n",
       "<style scoped>\n",
       "    .dataframe tbody tr th:only-of-type {\n",
       "        vertical-align: middle;\n",
       "    }\n",
       "\n",
       "    .dataframe tbody tr th {\n",
       "        vertical-align: top;\n",
       "    }\n",
       "\n",
       "    .dataframe thead th {\n",
       "        text-align: right;\n",
       "    }\n",
       "</style>\n",
       "<table border=\"1\" class=\"dataframe\">\n",
       "  <thead>\n",
       "    <tr style=\"text-align: right;\">\n",
       "      <th></th>\n",
       "      <th>Status</th>\n",
       "      <th>Guest name</th>\n",
       "      <th># of guests</th>\n",
       "      <th>Start date</th>\n",
       "      <th>End date</th>\n",
       "      <th># of nights</th>\n",
       "      <th>Booked</th>\n",
       "      <th>Earnings</th>\n",
       "      <th># of beds</th>\n",
       "      <th>Listing name</th>\n",
       "      <th>Tax</th>\n",
       "      <th>Earnings after Tax</th>\n",
       "      <th># of days pre booked</th>\n",
       "    </tr>\n",
       "  </thead>\n",
       "  <tbody>\n",
       "    <tr>\n",
       "      <th>0</th>\n",
       "      <td>Confirmed</td>\n",
       "      <td>Egor Zhidkov</td>\n",
       "      <td>2</td>\n",
       "      <td>2019-06-20</td>\n",
       "      <td>2019-06-22</td>\n",
       "      <td>2</td>\n",
       "      <td>2019-03-28</td>\n",
       "      <td>67.90</td>\n",
       "      <td>2</td>\n",
       "      <td>Studio with Patio</td>\n",
       "      <td>4</td>\n",
       "      <td>63.90</td>\n",
       "      <td>84</td>\n",
       "    </tr>\n",
       "    <tr>\n",
       "      <th>1</th>\n",
       "      <td>Confirmed</td>\n",
       "      <td>Youstina Daoud</td>\n",
       "      <td>2</td>\n",
       "      <td>2019-06-03</td>\n",
       "      <td>2019-06-05</td>\n",
       "      <td>2</td>\n",
       "      <td>2019-03-30</td>\n",
       "      <td>67.90</td>\n",
       "      <td>2</td>\n",
       "      <td>Studio with Patio</td>\n",
       "      <td>4</td>\n",
       "      <td>63.90</td>\n",
       "      <td>65</td>\n",
       "    </tr>\n",
       "    <tr>\n",
       "      <th>2</th>\n",
       "      <td>Confirmed</td>\n",
       "      <td>Öznur Balaban</td>\n",
       "      <td>2</td>\n",
       "      <td>2019-06-08</td>\n",
       "      <td>2019-06-09</td>\n",
       "      <td>1</td>\n",
       "      <td>2019-04-09</td>\n",
       "      <td>33.95</td>\n",
       "      <td>2</td>\n",
       "      <td>Studio with Patio</td>\n",
       "      <td>2</td>\n",
       "      <td>31.95</td>\n",
       "      <td>60</td>\n",
       "    </tr>\n",
       "  </tbody>\n",
       "</table>\n",
       "</div>"
      ],
      "text/plain": [
       "      Status      Guest name  # of guests Start date   End date  # of nights  \\\n",
       "0  Confirmed    Egor Zhidkov            2 2019-06-20 2019-06-22            2   \n",
       "1  Confirmed  Youstina Daoud            2 2019-06-03 2019-06-05            2   \n",
       "2  Confirmed   Öznur Balaban            2 2019-06-08 2019-06-09            1   \n",
       "\n",
       "      Booked  Earnings  # of beds       Listing name  Tax  Earnings after Tax  \\\n",
       "0 2019-03-28     67.90          2  Studio with Patio    4               63.90   \n",
       "1 2019-03-30     67.90          2  Studio with Patio    4               63.90   \n",
       "2 2019-04-09     33.95          2  Studio with Patio    2               31.95   \n",
       "\n",
       "   # of days pre booked  \n",
       "0                    84  \n",
       "1                    65  \n",
       "2                    60  "
      ]
     },
     "execution_count": 10,
     "metadata": {},
     "output_type": "execute_result"
    }
   ],
   "source": [
    "# Taxes are 1 dollar per adult per night\n",
    "df['Tax'] = df['# of guests'] * df['# of nights']\n",
    "df['Earnings after Tax'] = df['Earnings'] - df['Tax']\n",
    "df['# of days pre booked'] = (df['Start date'] - df['Booked']).dt.days\n",
    "\n",
    "df.head(3)"
   ]
  },
  {
   "attachments": {},
   "cell_type": "markdown",
   "metadata": {},
   "source": [
    "Adding guests origin based on first name and last name (pip install names-dataset)"
   ]
  },
  {
   "cell_type": "code",
   "execution_count": 11,
   "metadata": {
    "execution": {
     "iopub.execute_input": "2023-05-10T11:44:30.439617Z",
     "iopub.status.busy": "2023-05-10T11:44:30.439617Z",
     "iopub.status.idle": "2023-05-10T11:44:41.533650Z",
     "shell.execute_reply": "2023-05-10T11:44:41.533650Z"
    }
   },
   "outputs": [],
   "source": [
    "nd = NameDataset()"
   ]
  },
  {
   "cell_type": "code",
   "execution_count": 12,
   "metadata": {
    "execution": {
     "iopub.execute_input": "2023-05-10T11:44:41.537648Z",
     "iopub.status.busy": "2023-05-10T11:44:41.536648Z",
     "iopub.status.idle": "2023-05-10T11:44:41.549650Z",
     "shell.execute_reply": "2023-05-10T11:44:41.549650Z"
    }
   },
   "outputs": [
    {
     "name": "stdout",
     "output_type": "stream",
     "text": [
      "{'first_name': {'country': {'Argentina': 0.062, 'Austria': 0.037, 'Bolivia, Plurinational State of': 0.042, 'Colombia': 0.096, 'Germany': 0.044, 'Italy': 0.295, 'Peru': 0.185, 'United States': 0.159, 'Uruguay': 0.036, 'South Africa': 0.043}, 'gender': {'Female': 0.007, 'Male': 0.993}, 'rank': {'Argentina': 37, 'Austria': 34, 'Bolivia, Plurinational State of': 67, 'Colombia': 250, 'Germany': 214, 'Italy': 193, 'Peru': 27, 'United States': 317, 'Uruguay': 44, 'South Africa': 388}}, 'last_name': {'country': {'Austria': 0.036, 'Brazil': 0.039, 'Switzerland': 0.032, 'Germany': 0.299, 'France': 0.121, 'United Kingdom': 0.048, 'Italy': 0.09, 'Nigeria': 0.078, 'United States': 0.172, 'South Africa': 0.085}, 'gender': {}, 'rank': {'Austria': 106, 'Brazil': 805, 'Switzerland': 140, 'Germany': 39, 'France': 625, 'United Kingdom': 1823, 'Italy': 3564, 'Nigeria': 926, 'United States': 1210, 'South Africa': 1169}}}\n"
     ]
    }
   ],
   "source": [
    "print(nd.search('Walter'))"
   ]
  },
  {
   "cell_type": "code",
   "execution_count": 13,
   "metadata": {
    "execution": {
     "iopub.execute_input": "2023-05-10T11:44:41.555617Z",
     "iopub.status.busy": "2023-05-10T11:44:41.551617Z",
     "iopub.status.idle": "2023-05-10T11:44:41.565617Z",
     "shell.execute_reply": "2023-05-10T11:44:41.565617Z"
    }
   },
   "outputs": [],
   "source": [
    "def name_origin(name, lastname):\n",
    "\n",
    "    # get probabilities of contries by first name\n",
    "    name_prob = nd.search(name)['first_name']\n",
    "    if (name_prob is None):\n",
    "        name_prob = None\n",
    "    else:\n",
    "        name_prob = name_prob['country']\n",
    "\n",
    "    # get probabilities of contries by last name\n",
    "    lastname_prob = nd.search(lastname)['last_name']\n",
    "    if (lastname_prob is None):\n",
    "        lastname_prob = None\n",
    "    else:\n",
    "        lastname_prob = lastname_prob['country']\n",
    "\n",
    "    prob = 0\n",
    "    country = 'Unknown'\n",
    "\n",
    "    # get max probability for last name\n",
    "    if lastname_prob:\n",
    "        max_value = max(lastname_prob, key=lastname_prob.get)\n",
    "        if(lastname_prob[max_value] > prob):\n",
    "            country = (max_value)\n",
    "            prob = (lastname_prob[max_value])\n",
    "\n",
    "    # get max probability for first name and compare it with last name prob\n",
    "    if name_prob:\n",
    "        max_value = max(name_prob, key=name_prob.get)\n",
    "        if(name_prob[max_value] > prob):\n",
    "            country = (max_value)\n",
    "            prob = (name_prob[max_value])\n",
    "\n",
    "    return country"
   ]
  },
  {
   "cell_type": "code",
   "execution_count": 14,
   "metadata": {
    "execution": {
     "iopub.execute_input": "2023-05-10T11:44:41.596615Z",
     "iopub.status.busy": "2023-05-10T11:44:41.596615Z",
     "iopub.status.idle": "2023-05-10T11:44:41.613651Z",
     "shell.execute_reply": "2023-05-10T11:44:41.613651Z"
    }
   },
   "outputs": [
    {
     "name": "stdout",
     "output_type": "stream",
     "text": [
      "Confirmed              105\n",
      "Arriving in 49 days      1\n",
      "Arriving in 82 days      1\n",
      "Arriving in 13 days      1\n",
      "Arriving tomorrow        1\n",
      "Name: Status, dtype: int64\n"
     ]
    }
   ],
   "source": [
    "# * is used to unpack elements of a collection\n",
    "df['Origin'] = df['Guest name'].apply(lambda x: name_origin(*(x.split(' ')[:2]))) # if they have 3 names, only first 2 will be taken into consideration\n",
    "\n",
    "df['Advertiser'] = 'Airbnb'\n",
    "df['Cancel date'] = 0\n",
    "df['# of days cancel'] = 0\n",
    "\n",
    "print(df['Status'].value_counts())"
   ]
  },
  {
   "attachments": {},
   "cell_type": "markdown",
   "metadata": {},
   "source": [
    "Rearranging columns"
   ]
  },
  {
   "cell_type": "code",
   "execution_count": 15,
   "metadata": {
    "execution": {
     "iopub.execute_input": "2023-05-10T11:44:41.618616Z",
     "iopub.status.busy": "2023-05-10T11:44:41.617617Z",
     "iopub.status.idle": "2023-05-10T11:44:41.629651Z",
     "shell.execute_reply": "2023-05-10T11:44:41.629651Z"
    }
   },
   "outputs": [],
   "source": [
    "df = df[['Status', 'Guest name', 'Origin', '# of guests', 'Booked', 'Start date', 'End date', '# of nights', '# of days pre booked', 'Listing name', '# of beds',\n",
    "                 'Earnings', 'Tax', 'Earnings after Tax', 'Advertiser', 'Cancel date', '# of days cancel']]"
   ]
  },
  {
   "attachments": {},
   "cell_type": "markdown",
   "metadata": {},
   "source": [
    "Exporting data frame to excel file"
   ]
  },
  {
   "cell_type": "code",
   "execution_count": 16,
   "metadata": {
    "execution": {
     "iopub.execute_input": "2023-05-10T11:44:41.653725Z",
     "iopub.status.busy": "2023-05-10T11:44:41.632618Z",
     "iopub.status.idle": "2023-05-10T11:44:41.693419Z",
     "shell.execute_reply": "2023-05-10T11:44:41.693419Z"
    }
   },
   "outputs": [
    {
     "data": {
      "text/html": [
       "<div>\n",
       "<style scoped>\n",
       "    .dataframe tbody tr th:only-of-type {\n",
       "        vertical-align: middle;\n",
       "    }\n",
       "\n",
       "    .dataframe tbody tr th {\n",
       "        vertical-align: top;\n",
       "    }\n",
       "\n",
       "    .dataframe thead th {\n",
       "        text-align: right;\n",
       "    }\n",
       "</style>\n",
       "<table border=\"1\" class=\"dataframe\">\n",
       "  <thead>\n",
       "    <tr style=\"text-align: right;\">\n",
       "      <th></th>\n",
       "      <th>Status</th>\n",
       "      <th>Guest name</th>\n",
       "      <th>Origin</th>\n",
       "      <th># of guests</th>\n",
       "      <th>Booked</th>\n",
       "      <th>Start date</th>\n",
       "      <th>End date</th>\n",
       "      <th># of nights</th>\n",
       "      <th># of days pre booked</th>\n",
       "      <th>Listing name</th>\n",
       "      <th># of beds</th>\n",
       "      <th>Earnings</th>\n",
       "      <th>Tax</th>\n",
       "      <th>Earnings after Tax</th>\n",
       "      <th>Advertiser</th>\n",
       "      <th>Cancel date</th>\n",
       "      <th># of days cancel</th>\n",
       "    </tr>\n",
       "  </thead>\n",
       "  <tbody>\n",
       "    <tr>\n",
       "      <th>0</th>\n",
       "      <td>Confirmed</td>\n",
       "      <td>Egor Zhidkov</td>\n",
       "      <td>Russian Federation</td>\n",
       "      <td>2</td>\n",
       "      <td>2019-03-28</td>\n",
       "      <td>2019-06-20</td>\n",
       "      <td>2019-06-22</td>\n",
       "      <td>2</td>\n",
       "      <td>84</td>\n",
       "      <td>Studio with Patio</td>\n",
       "      <td>2</td>\n",
       "      <td>67.90</td>\n",
       "      <td>4</td>\n",
       "      <td>63.90</td>\n",
       "      <td>Airbnb</td>\n",
       "      <td>0</td>\n",
       "      <td>0</td>\n",
       "    </tr>\n",
       "    <tr>\n",
       "      <th>1</th>\n",
       "      <td>Confirmed</td>\n",
       "      <td>Youstina Daoud</td>\n",
       "      <td>Egypt</td>\n",
       "      <td>2</td>\n",
       "      <td>2019-03-30</td>\n",
       "      <td>2019-06-03</td>\n",
       "      <td>2019-06-05</td>\n",
       "      <td>2</td>\n",
       "      <td>65</td>\n",
       "      <td>Studio with Patio</td>\n",
       "      <td>2</td>\n",
       "      <td>67.90</td>\n",
       "      <td>4</td>\n",
       "      <td>63.90</td>\n",
       "      <td>Airbnb</td>\n",
       "      <td>0</td>\n",
       "      <td>0</td>\n",
       "    </tr>\n",
       "    <tr>\n",
       "      <th>2</th>\n",
       "      <td>Confirmed</td>\n",
       "      <td>Öznur Balaban</td>\n",
       "      <td>Turkey</td>\n",
       "      <td>2</td>\n",
       "      <td>2019-04-09</td>\n",
       "      <td>2019-06-08</td>\n",
       "      <td>2019-06-09</td>\n",
       "      <td>1</td>\n",
       "      <td>60</td>\n",
       "      <td>Studio with Patio</td>\n",
       "      <td>2</td>\n",
       "      <td>33.95</td>\n",
       "      <td>2</td>\n",
       "      <td>31.95</td>\n",
       "      <td>Airbnb</td>\n",
       "      <td>0</td>\n",
       "      <td>0</td>\n",
       "    </tr>\n",
       "  </tbody>\n",
       "</table>\n",
       "</div>"
      ],
      "text/plain": [
       "      Status      Guest name              Origin  # of guests     Booked  \\\n",
       "0  Confirmed    Egor Zhidkov  Russian Federation            2 2019-03-28   \n",
       "1  Confirmed  Youstina Daoud               Egypt            2 2019-03-30   \n",
       "2  Confirmed   Öznur Balaban              Turkey            2 2019-04-09   \n",
       "\n",
       "  Start date   End date  # of nights  # of days pre booked       Listing name  \\\n",
       "0 2019-06-20 2019-06-22            2                    84  Studio with Patio   \n",
       "1 2019-06-03 2019-06-05            2                    65  Studio with Patio   \n",
       "2 2019-06-08 2019-06-09            1                    60  Studio with Patio   \n",
       "\n",
       "   # of beds  Earnings  Tax  Earnings after Tax Advertiser  Cancel date  \\\n",
       "0          2     67.90    4               63.90     Airbnb            0   \n",
       "1          2     67.90    4               63.90     Airbnb            0   \n",
       "2          2     33.95    2               31.95     Airbnb            0   \n",
       "\n",
       "   # of days cancel  \n",
       "0                 0  \n",
       "1                 0  \n",
       "2                 0  "
      ]
     },
     "execution_count": 16,
     "metadata": {},
     "output_type": "execute_result"
    }
   ],
   "source": [
    "exportPath = './preprocessed files/'\n",
    "\n",
    "df.to_excel(exportPath + 'Final_Airbnb.xlsx')\n",
    "df.head(3)"
   ]
  }
 ],
 "metadata": {
  "kernelspec": {
   "display_name": "base",
   "language": "python",
   "name": "python3"
  },
  "language_info": {
   "codemirror_mode": {
    "name": "ipython",
    "version": 3
   },
   "file_extension": ".py",
   "mimetype": "text/x-python",
   "name": "python",
   "nbconvert_exporter": "python",
   "pygments_lexer": "ipython3",
   "version": "3.9.7"
  },
  "vscode": {
   "interpreter": {
    "hash": "e1601fcc101a5bb667248cc359321e81417357eafad225b63c8a8f2d6fbd6674"
   }
  }
 },
 "nbformat": 4,
 "nbformat_minor": 2
}
