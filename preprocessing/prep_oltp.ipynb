{
 "cells": [
  {
   "cell_type": "code",
   "execution_count": 17,
   "metadata": {},
   "outputs": [],
   "source": [
    "import cx_Oracle\n",
    "import pandas as pd"
   ]
  },
  {
   "cell_type": "code",
   "execution_count": 18,
   "metadata": {},
   "outputs": [],
   "source": [
    "def extract_oltp(table_names):\n",
    "\n",
    "    conStr = 'system/oracle@localhost:1521/xe'\n",
    "\n",
    "    # initialize the connection object\n",
    "    conn = None\n",
    "\n",
    "    try:\n",
    "\n",
    "        # create a connection object    \n",
    "        conn = cx_Oracle.connect(conStr)\n",
    "\n",
    "        # get a cursor object from the connection\n",
    "        cur = conn.cursor()\n",
    "\n",
    "        for table_name in table_names:\n",
    "\n",
    "            # construct SQL query using table_name argument\n",
    "            sqlTxt = f'select * from \"SSP_RES\".{table_name}'\n",
    "\n",
    "            # execute query and fetch results\n",
    "            cur.execute(sqlTxt)\n",
    "            record = cur.fetchall()\n",
    "\n",
    "            # create pandas DataFrame from query results\n",
    "            df= pd.DataFrame.from_records(record, columns = [x[0] for x in cur.description] )\n",
    "\n",
    "            variable = f'df_{table_name}'\n",
    "            globals()[variable] = df\n",
    "\n",
    "            print(f\"{variable} succesfully loaded!\")        \n",
    "\n",
    "    except Exception as err:\n",
    "        print('Error while connecting to the db')\n",
    "        print(err)    \n",
    "        \n",
    "    finally:\n",
    "        if(conn):\n",
    "            # close the cursor object to avoid memory leaks\n",
    "            cur.close()\n",
    "\n",
    "            # close the connection object also\n",
    "            conn.close()"
   ]
  },
  {
   "cell_type": "code",
   "execution_count": 19,
   "metadata": {},
   "outputs": [],
   "source": [
    "table_names = [\n",
    "    \"SRC_Country\", \"SRC_City\", \"SRC_Guest\", \"SRC_Building\", \"SRC_Apartment_Type\", \"SRC_Apartment\",\n",
    "    \"SRC_Reservation\", \"SRC_Content\", \"SRC_Contains\", \"SRC_Apartment_Ocupancy\", \"SRC_Pricelist\"]"
   ]
  },
  {
   "cell_type": "code",
   "execution_count": 20,
   "metadata": {},
   "outputs": [
    {
     "name": "stdout",
     "output_type": "stream",
     "text": [
      "df_SRC_Country succesfully loaded!\n",
      "df_SRC_City succesfully loaded!\n",
      "df_SRC_Guest succesfully loaded!\n",
      "df_SRC_Building succesfully loaded!\n",
      "df_SRC_Apartment_Type succesfully loaded!\n",
      "df_SRC_Apartment succesfully loaded!\n",
      "df_SRC_Reservation succesfully loaded!\n",
      "df_SRC_Content succesfully loaded!\n",
      "df_SRC_Contains succesfully loaded!\n",
      "df_SRC_Apartment_Ocupancy succesfully loaded!\n",
      "df_SRC_Pricelist succesfully loaded!\n"
     ]
    }
   ],
   "source": [
    "extract_oltp(table_names)"
   ]
  },
  {
   "cell_type": "code",
   "execution_count": 21,
   "metadata": {},
   "outputs": [
    {
     "data": {
      "text/html": [
       "<div>\n",
       "<style scoped>\n",
       "    .dataframe tbody tr th:only-of-type {\n",
       "        vertical-align: middle;\n",
       "    }\n",
       "\n",
       "    .dataframe tbody tr th {\n",
       "        vertical-align: top;\n",
       "    }\n",
       "\n",
       "    .dataframe thead th {\n",
       "        text-align: right;\n",
       "    }\n",
       "</style>\n",
       "<table border=\"1\" class=\"dataframe\">\n",
       "  <thead>\n",
       "    <tr style=\"text-align: right;\">\n",
       "      <th></th>\n",
       "      <th>GUEST_ID</th>\n",
       "      <th>Origin</th>\n",
       "      <th>Guest name</th>\n",
       "    </tr>\n",
       "  </thead>\n",
       "  <tbody>\n",
       "  </tbody>\n",
       "</table>\n",
       "</div>"
      ],
      "text/plain": [
       "Empty DataFrame\n",
       "Columns: [GUEST_ID, Origin, Guest name]\n",
       "Index: []"
      ]
     },
     "execution_count": 21,
     "metadata": {},
     "output_type": "execute_result"
    }
   ],
   "source": [
    "df_guest_country = pd.merge(df_SRC_Guest[[\"GUEST_ID\", \"GUEST_FIRSTNAME\",  \"GUEST_LASTNAME\", \"COUNTRY_ID\"]],\n",
    "                            df_SRC_Country[[\"COUNTRY_ID\", \"COUNTRY_NAME\"]],\n",
    "                            on = \"COUNTRY_ID\",\n",
    "                            how = 'left')\n",
    "\n",
    "df_guest_country[\"GUEST_NAME\"] = df_guest_country[\"GUEST_FIRSTNAME\"] + \" \" + df_guest_country[\"GUEST_LASTNAME\"]\n",
    "\n",
    "df_guest_country.drop(columns = [\"COUNTRY_ID\", \"GUEST_FIRSTNAME\", \"GUEST_LASTNAME\"], inplace = True)\n",
    "df_guest_country.rename(columns = {\"GUEST_NAME\" : \"Guest name\", \"COUNTRY_NAME\": \"Origin\"}, inplace = True)\n",
    "\n",
    "df_guest_country.head()"
   ]
  },
  {
   "cell_type": "code",
   "execution_count": 6,
   "metadata": {},
   "outputs": [
    {
     "data": {
      "text/html": [
       "<div>\n",
       "<style scoped>\n",
       "    .dataframe tbody tr th:only-of-type {\n",
       "        vertical-align: middle;\n",
       "    }\n",
       "\n",
       "    .dataframe tbody tr th {\n",
       "        vertical-align: top;\n",
       "    }\n",
       "\n",
       "    .dataframe thead th {\n",
       "        text-align: right;\n",
       "    }\n",
       "</style>\n",
       "<table border=\"1\" class=\"dataframe\">\n",
       "  <thead>\n",
       "    <tr style=\"text-align: right;\">\n",
       "      <th></th>\n",
       "      <th>APARTMENT_ID</th>\n",
       "      <th>Listing name</th>\n",
       "      <th># of beds</th>\n",
       "    </tr>\n",
       "  </thead>\n",
       "  <tbody>\n",
       "  </tbody>\n",
       "</table>\n",
       "</div>"
      ],
      "text/plain": [
       "Empty DataFrame\n",
       "Columns: [APARTMENT_ID, Listing name, # of beds]\n",
       "Index: []"
      ]
     },
     "execution_count": 6,
     "metadata": {},
     "output_type": "execute_result"
    }
   ],
   "source": [
    "df_SRC_Content_Beds = df_SRC_Content.loc[df_SRC_Content[\"CONTENT_NAME\"] == \"beds\"]\n",
    "\n",
    "df_contains_content = pd.merge(df_SRC_Contains, df_SRC_Content_Beds, on=\"CONTENT_ID\", how=\"inner\")\n",
    "\n",
    "df_apartment = pd.merge(df_contains_content, df_SRC_Apartment[[\"APARTMENT_ID\", \"APARTMENT_NAME\"]], on=\"APARTMENT_ID\", how=\"inner\")\n",
    "\n",
    "df_apartment.drop(columns = [\"CONTENT_ID\", \"CONTENT_NAME\"], inplace = True)\n",
    "df_apartment.rename(columns = {\"APARTMENT_NAME\" : \"Listing name\", \"CONTENT_QUANTITY\": \"# of beds\"}, inplace = True)\n",
    "\n",
    "df_apartment = df_apartment[[\"APARTMENT_ID\", \"Listing name\", \"# of beds\"]]\n",
    "\n",
    "df_apartment.head()"
   ]
  },
  {
   "cell_type": "code",
   "execution_count": 7,
   "metadata": {},
   "outputs": [
    {
     "data": {
      "text/html": [
       "<div>\n",
       "<style scoped>\n",
       "    .dataframe tbody tr th:only-of-type {\n",
       "        vertical-align: middle;\n",
       "    }\n",
       "\n",
       "    .dataframe tbody tr th {\n",
       "        vertical-align: top;\n",
       "    }\n",
       "\n",
       "    .dataframe thead th {\n",
       "        text-align: right;\n",
       "    }\n",
       "</style>\n",
       "<table border=\"1\" class=\"dataframe\">\n",
       "  <thead>\n",
       "    <tr style=\"text-align: right;\">\n",
       "      <th></th>\n",
       "      <th>RESERVIATION_ID</th>\n",
       "      <th>BOOKED</th>\n",
       "      <th>START_DATE</th>\n",
       "      <th>END_DATE</th>\n",
       "      <th>STATUS</th>\n",
       "      <th>PRICE</th>\n",
       "      <th>NUMBER_OF_GUESTS</th>\n",
       "      <th>PAYMENT_METHOD</th>\n",
       "      <th>ADVERTISER</th>\n",
       "      <th>GUEST_ID</th>\n",
       "      <th>APARTMENT_ID</th>\n",
       "    </tr>\n",
       "  </thead>\n",
       "  <tbody>\n",
       "  </tbody>\n",
       "</table>\n",
       "</div>"
      ],
      "text/plain": [
       "Empty DataFrame\n",
       "Columns: [RESERVIATION_ID, BOOKED, START_DATE, END_DATE, STATUS, PRICE, NUMBER_OF_GUESTS, PAYMENT_METHOD, ADVERTISER, GUEST_ID, APARTMENT_ID]\n",
       "Index: []"
      ]
     },
     "execution_count": 7,
     "metadata": {},
     "output_type": "execute_result"
    }
   ],
   "source": [
    "df_SRC_Reservation "
   ]
  },
  {
   "cell_type": "code",
   "execution_count": 8,
   "metadata": {},
   "outputs": [
    {
     "data": {
      "text/html": [
       "<div>\n",
       "<style scoped>\n",
       "    .dataframe tbody tr th:only-of-type {\n",
       "        vertical-align: middle;\n",
       "    }\n",
       "\n",
       "    .dataframe tbody tr th {\n",
       "        vertical-align: top;\n",
       "    }\n",
       "\n",
       "    .dataframe thead th {\n",
       "        text-align: right;\n",
       "    }\n",
       "</style>\n",
       "<table border=\"1\" class=\"dataframe\">\n",
       "  <thead>\n",
       "    <tr style=\"text-align: right;\">\n",
       "      <th></th>\n",
       "      <th>BOOKED</th>\n",
       "      <th>START_DATE</th>\n",
       "      <th>END_DATE</th>\n",
       "      <th>STATUS</th>\n",
       "      <th>PRICE</th>\n",
       "      <th>NUMBER_OF_GUESTS</th>\n",
       "      <th>ADVERTISER</th>\n",
       "      <th>GUEST_ID</th>\n",
       "      <th>APARTMENT_ID</th>\n",
       "      <th># of days pre booked</th>\n",
       "      <th># of nights</th>\n",
       "      <th>Tax</th>\n",
       "      <th>Earnings after Tax</th>\n",
       "    </tr>\n",
       "  </thead>\n",
       "  <tbody>\n",
       "  </tbody>\n",
       "</table>\n",
       "</div>"
      ],
      "text/plain": [
       "Empty DataFrame\n",
       "Columns: [BOOKED, START_DATE, END_DATE, STATUS, PRICE, NUMBER_OF_GUESTS, ADVERTISER, GUEST_ID, APARTMENT_ID, # of days pre booked, # of nights, Tax, Earnings after Tax]\n",
       "Index: []"
      ]
     },
     "execution_count": 8,
     "metadata": {},
     "output_type": "execute_result"
    }
   ],
   "source": [
    "df_SRC_Reservation[\"START_DATE\"] = pd.to_datetime(df_SRC_Reservation[\"START_DATE\"])\n",
    "df_SRC_Reservation[\"END_DATE\"] = pd.to_datetime(df_SRC_Reservation[\"END_DATE\"])\n",
    "df_SRC_Reservation[\"BOOKED\"] = pd.to_datetime(df_SRC_Reservation[\"BOOKED\"])\n",
    "\n",
    "df_SRC_Reservation.drop(columns = [\"RESERVIATION_ID\", \"PAYMENT_METHOD\"], inplace = True)\n",
    "\n",
    "df_SRC_Reservation[\"# of days pre booked\"] = (df_SRC_Reservation[\"START_DATE\"] - df_SRC_Reservation[\"BOOKED\"]).dt.days\n",
    "df_SRC_Reservation[\"# of nights\"] = (df_SRC_Reservation[\"END_DATE\"] - df_SRC_Reservation[\"START_DATE\"]).dt.days\n",
    "\n",
    "df_SRC_Reservation[\"Tax\"] = df_SRC_Reservation[\"NUMBER_OF_GUESTS\"] * df_SRC_Reservation[\"# of nights\"]\n",
    "df_SRC_Reservation[\"Earnings after Tax\"] = df_SRC_Reservation[\"PRICE\"] - df_SRC_Reservation[\"Tax\"]\n",
    "\n",
    "df_SRC_Reservation.head()"
   ]
  },
  {
   "cell_type": "code",
   "execution_count": 9,
   "metadata": {},
   "outputs": [
    {
     "data": {
      "text/html": [
       "<div>\n",
       "<style scoped>\n",
       "    .dataframe tbody tr th:only-of-type {\n",
       "        vertical-align: middle;\n",
       "    }\n",
       "\n",
       "    .dataframe tbody tr th {\n",
       "        vertical-align: top;\n",
       "    }\n",
       "\n",
       "    .dataframe thead th {\n",
       "        text-align: right;\n",
       "    }\n",
       "</style>\n",
       "<table border=\"1\" class=\"dataframe\">\n",
       "  <thead>\n",
       "    <tr style=\"text-align: right;\">\n",
       "      <th></th>\n",
       "      <th>Booked</th>\n",
       "      <th>Start date</th>\n",
       "      <th>End date</th>\n",
       "      <th>Status</th>\n",
       "      <th>Earnings</th>\n",
       "      <th># of guests</th>\n",
       "      <th>Advertiser</th>\n",
       "      <th>GUEST_ID</th>\n",
       "      <th>APARTMENT_ID</th>\n",
       "      <th># of days pre booked</th>\n",
       "      <th># of nights</th>\n",
       "      <th>Tax</th>\n",
       "      <th>Earnings after Tax</th>\n",
       "    </tr>\n",
       "  </thead>\n",
       "  <tbody>\n",
       "  </tbody>\n",
       "</table>\n",
       "</div>"
      ],
      "text/plain": [
       "Empty DataFrame\n",
       "Columns: [Booked, Start date, End date, Status, Earnings, # of guests, Advertiser, GUEST_ID, APARTMENT_ID, # of days pre booked, # of nights, Tax, Earnings after Tax]\n",
       "Index: []"
      ]
     },
     "execution_count": 9,
     "metadata": {},
     "output_type": "execute_result"
    }
   ],
   "source": [
    "df_SRC_Reservation.rename(columns = {\n",
    "                \"STATUS\" : \"Status\", \"NUMBER_OF_GUESTS\" : \"# of guests\", \"BOOKED\" : \"Booked\",\n",
    "                \"START_DATE\" : \"Start date\", \"END_DATE\" : \"End date\", \"ADVERTISER\" : \"Advertiser\",\n",
    "                \"PRICE\" : \"Earnings\" }, inplace = True)\n",
    "\n",
    "df_SRC_Reservation.head()\n"
   ]
  },
  {
   "cell_type": "markdown",
   "metadata": {},
   "source": []
  },
  {
   "cell_type": "code",
   "execution_count": 10,
   "metadata": {},
   "outputs": [
    {
     "data": {
      "text/html": [
       "<div>\n",
       "<style scoped>\n",
       "    .dataframe tbody tr th:only-of-type {\n",
       "        vertical-align: middle;\n",
       "    }\n",
       "\n",
       "    .dataframe tbody tr th {\n",
       "        vertical-align: top;\n",
       "    }\n",
       "\n",
       "    .dataframe thead th {\n",
       "        text-align: right;\n",
       "    }\n",
       "</style>\n",
       "<table border=\"1\" class=\"dataframe\">\n",
       "  <thead>\n",
       "    <tr style=\"text-align: right;\">\n",
       "      <th></th>\n",
       "      <th>Booked</th>\n",
       "      <th>Start date</th>\n",
       "      <th>End date</th>\n",
       "      <th>Status</th>\n",
       "      <th>Earnings</th>\n",
       "      <th># of guests</th>\n",
       "      <th>Advertiser</th>\n",
       "      <th># of days pre booked</th>\n",
       "      <th># of nights</th>\n",
       "      <th>Tax</th>\n",
       "      <th>Earnings after Tax</th>\n",
       "      <th>GUEST_ID</th>\n",
       "      <th>Origin</th>\n",
       "      <th>Guest name</th>\n",
       "      <th>APARTMENT_ID</th>\n",
       "      <th>Listing name</th>\n",
       "      <th># of beds</th>\n",
       "    </tr>\n",
       "  </thead>\n",
       "  <tbody>\n",
       "  </tbody>\n",
       "</table>\n",
       "</div>"
      ],
      "text/plain": [
       "Empty DataFrame\n",
       "Columns: [Booked, Start date, End date, Status, Earnings, # of guests, Advertiser, # of days pre booked, # of nights, Tax, Earnings after Tax, GUEST_ID, Origin, Guest name, APARTMENT_ID, Listing name, # of beds]\n",
       "Index: []"
      ]
     },
     "execution_count": 10,
     "metadata": {},
     "output_type": "execute_result"
    }
   ],
   "source": [
    "df_res_guest = pd.merge(df_SRC_Reservation,\n",
    "                    df_guest_country,\n",
    "                    on = \"GUEST_ID\",\n",
    "                    how = 'left')\n",
    "\n",
    "df_final = pd.merge(df_res_guest,\n",
    "                    df_apartment,\n",
    "                    on = \"APARTMENT_ID\",\n",
    "                    how = 'left')\n",
    "\n",
    "df_final.head()"
   ]
  },
  {
   "cell_type": "code",
   "execution_count": 11,
   "metadata": {},
   "outputs": [],
   "source": [
    "df = df_final[[\"Status\", \"Guest name\", \"Origin\", \"# of guests\", \"Booked\", \"Start date\", \"End date\", \"# of nights\", \"# of days pre booked\", \"Listing name\", \"# of beds\", \"Earnings\", \"Tax\", \"Earnings after Tax\", \"Advertiser\"]]"
   ]
  },
  {
   "cell_type": "code",
   "execution_count": 13,
   "metadata": {},
   "outputs": [
    {
     "data": {
      "text/html": [
       "<div>\n",
       "<style scoped>\n",
       "    .dataframe tbody tr th:only-of-type {\n",
       "        vertical-align: middle;\n",
       "    }\n",
       "\n",
       "    .dataframe tbody tr th {\n",
       "        vertical-align: top;\n",
       "    }\n",
       "\n",
       "    .dataframe thead th {\n",
       "        text-align: right;\n",
       "    }\n",
       "</style>\n",
       "<table border=\"1\" class=\"dataframe\">\n",
       "  <thead>\n",
       "    <tr style=\"text-align: right;\">\n",
       "      <th></th>\n",
       "      <th>Status</th>\n",
       "      <th>Guest name</th>\n",
       "      <th>Origin</th>\n",
       "      <th># of guests</th>\n",
       "      <th>Booked</th>\n",
       "      <th>Start date</th>\n",
       "      <th>End date</th>\n",
       "      <th># of nights</th>\n",
       "      <th># of days pre booked</th>\n",
       "      <th>Listing name</th>\n",
       "      <th># of beds</th>\n",
       "      <th>Earnings</th>\n",
       "      <th>Tax</th>\n",
       "      <th>Earnings after Tax</th>\n",
       "      <th>Advertiser</th>\n",
       "    </tr>\n",
       "  </thead>\n",
       "  <tbody>\n",
       "  </tbody>\n",
       "</table>\n",
       "</div>"
      ],
      "text/plain": [
       "Empty DataFrame\n",
       "Columns: [Status, Guest name, Origin, # of guests, Booked, Start date, End date, # of nights, # of days pre booked, Listing name, # of beds, Earnings, Tax, Earnings after Tax, Advertiser]\n",
       "Index: []"
      ]
     },
     "execution_count": 13,
     "metadata": {},
     "output_type": "execute_result"
    }
   ],
   "source": [
    "exportPath = \"./\"\n",
    "\n",
    "df.to_excel(exportPath + \"Final_OLTP.xlsx\")\n",
    "df.head()"
   ]
  }
 ],
 "metadata": {
  "kernelspec": {
   "display_name": "base",
   "language": "python",
   "name": "python3"
  },
  "language_info": {
   "codemirror_mode": {
    "name": "ipython",
    "version": 3
   },
   "file_extension": ".py",
   "mimetype": "text/x-python",
   "name": "python",
   "nbconvert_exporter": "python",
   "pygments_lexer": "ipython3",
   "version": "3.9.7"
  },
  "orig_nbformat": 4
 },
 "nbformat": 4,
 "nbformat_minor": 2
}
