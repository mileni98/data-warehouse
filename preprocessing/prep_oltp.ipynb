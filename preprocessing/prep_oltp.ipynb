{
 "cells": [
  {
   "cell_type": "code",
   "execution_count": 1,
   "metadata": {},
   "outputs": [],
   "source": [
    "import cx_Oracle\n",
    "import pandas as pd"
   ]
  },
  {
   "cell_type": "code",
   "execution_count": 2,
   "metadata": {},
   "outputs": [],
   "source": [
    "def extract_oltp(table_names):\n",
    "\n",
    "    conStr = 'system/oracle@localhost:1521/xe'\n",
    "\n",
    "    # initialize the connection object\n",
    "    conn = None\n",
    "\n",
    "    try:\n",
    "\n",
    "        # create a connection object    \n",
    "        conn = cx_Oracle.connect(conStr)\n",
    "\n",
    "        # get a cursor object from the connection\n",
    "        cur = conn.cursor()\n",
    "\n",
    "        for table_name in table_names:\n",
    "\n",
    "            # construct SQL query using table_name argument\n",
    "            sqlTxt = f'select * from \"SSP_RES\".{table_name}'\n",
    "\n",
    "            # execute query and fetch results\n",
    "            cur.execute(sqlTxt)\n",
    "            record = cur.fetchall()\n",
    "\n",
    "            # create pandas DataFrame from query results\n",
    "            df= pd.DataFrame.from_records(record, columns = [x[0] for x in cur.description] )\n",
    "\n",
    "            variable = f'df_{table_name}'\n",
    "            globals()[variable] = df\n",
    "\n",
    "            print(f\"{variable} succesfully loaded!\")        \n",
    "\n",
    "    except Exception as err:\n",
    "        print('Error while connecting to the db')\n",
    "        print(err)    \n",
    "        \n",
    "    finally:\n",
    "        if(conn):\n",
    "            # close the cursor object to avoid memory leaks\n",
    "            cur.close()\n",
    "\n",
    "            # close the connection object also\n",
    "            conn.close()"
   ]
  },
  {
   "cell_type": "code",
   "execution_count": 3,
   "metadata": {},
   "outputs": [
    {
     "name": "stdout",
     "output_type": "stream",
     "text": [
      "df_SRC_Country succesfully loaded!\n",
      "df_SRC_City succesfully loaded!\n",
      "df_SRC_Guest succesfully loaded!\n",
      "df_SRC_Building succesfully loaded!\n",
      "df_SRC_Apartment_Type succesfully loaded!\n",
      "df_SRC_Apartment succesfully loaded!\n",
      "df_SRC_Reservation succesfully loaded!\n",
      "df_SRC_Content succesfully loaded!\n",
      "df_SRC_Contains succesfully loaded!\n",
      "df_SRC_Apartment_Ocupancy succesfully loaded!\n",
      "df_SRC_Pricelist succesfully loaded!\n"
     ]
    }
   ],
   "source": [
    "table_names = [\n",
    "    \"SRC_Country\", \"SRC_City\", \"SRC_Guest\", \"SRC_Building\", \"SRC_Apartment_Type\", \"SRC_Apartment\",\n",
    "    \"SRC_Reservation\", \"SRC_Content\", \"SRC_Contains\", \"SRC_Apartment_Ocupancy\", \"SRC_Pricelist\"]\n",
    "    \n",
    "extract_oltp(table_names)"
   ]
  },
  {
   "cell_type": "code",
   "execution_count": 4,
   "metadata": {},
   "outputs": [
    {
     "data": {
      "text/html": [
       "<div>\n",
       "<style scoped>\n",
       "    .dataframe tbody tr th:only-of-type {\n",
       "        vertical-align: middle;\n",
       "    }\n",
       "\n",
       "    .dataframe tbody tr th {\n",
       "        vertical-align: top;\n",
       "    }\n",
       "\n",
       "    .dataframe thead th {\n",
       "        text-align: right;\n",
       "    }\n",
       "</style>\n",
       "<table border=\"1\" class=\"dataframe\">\n",
       "  <thead>\n",
       "    <tr style=\"text-align: right;\">\n",
       "      <th></th>\n",
       "      <th>GUEST_ID</th>\n",
       "      <th>COUNTRY_NAME</th>\n",
       "      <th>GUEST_NAME</th>\n",
       "    </tr>\n",
       "  </thead>\n",
       "  <tbody>\n",
       "  </tbody>\n",
       "</table>\n",
       "</div>"
      ],
      "text/plain": [
       "Empty DataFrame\n",
       "Columns: [GUEST_ID, COUNTRY_NAME, GUEST_NAME]\n",
       "Index: []"
      ]
     },
     "execution_count": 4,
     "metadata": {},
     "output_type": "execute_result"
    }
   ],
   "source": [
    "df_guest, df_country = df_SRC_Guest.copy(), df_SRC_Country.copy()\n",
    "\n",
    "df_guest_country = pd.merge(df_guest[[\"GUEST_ID\", \"GUEST_FIRSTNAME\",  \"GUEST_LASTNAME\", \"COUNTRY_ID\"]],\n",
    "                            df_country[[\"COUNTRY_ID\", \"COUNTRY_NAME\"]], on = \"COUNTRY_ID\", how = 'left')\n",
    "\n",
    "df_guest_country[\"GUEST_NAME\"] = df_guest_country[\"GUEST_FIRSTNAME\"] + \" \" + df_guest_country[\"GUEST_LASTNAME\"]\n",
    "df_guest_country.drop(columns = [\"COUNTRY_ID\", \"GUEST_FIRSTNAME\", \"GUEST_LASTNAME\"], inplace = True)\n",
    "df_guest_country.head()"
   ]
  },
  {
   "cell_type": "code",
   "execution_count": 5,
   "metadata": {},
   "outputs": [
    {
     "data": {
      "text/html": [
       "<div>\n",
       "<style scoped>\n",
       "    .dataframe tbody tr th:only-of-type {\n",
       "        vertical-align: middle;\n",
       "    }\n",
       "\n",
       "    .dataframe tbody tr th {\n",
       "        vertical-align: top;\n",
       "    }\n",
       "\n",
       "    .dataframe thead th {\n",
       "        text-align: right;\n",
       "    }\n",
       "</style>\n",
       "<table border=\"1\" class=\"dataframe\">\n",
       "  <thead>\n",
       "    <tr style=\"text-align: right;\">\n",
       "      <th></th>\n",
       "      <th>CONTENT_QUANTITY</th>\n",
       "      <th>APARTMENT_ID</th>\n",
       "      <th>APARTMENT_NAME</th>\n",
       "    </tr>\n",
       "  </thead>\n",
       "  <tbody>\n",
       "  </tbody>\n",
       "</table>\n",
       "</div>"
      ],
      "text/plain": [
       "Empty DataFrame\n",
       "Columns: [CONTENT_QUANTITY, APARTMENT_ID, APARTMENT_NAME]\n",
       "Index: []"
      ]
     },
     "execution_count": 5,
     "metadata": {},
     "output_type": "execute_result"
    }
   ],
   "source": [
    "df_content, df_contains, df_apartment = df_SRC_Content.copy(), df_SRC_Contains.copy(), df_SRC_Apartment.copy()\n",
    "\n",
    "df_content_beds = df_content.loc[df_content[\"CONTENT_NAME\"] == \"beds\"]\n",
    "\n",
    "df_contains_content = pd.merge(df_contains, df_content_beds, on=\"CONTENT_ID\", how=\"inner\")\n",
    "\n",
    "df_apartment_contains = pd.merge(df_contains_content, df_apartment[[\"APARTMENT_ID\", \"APARTMENT_NAME\"]], on=\"APARTMENT_ID\", how=\"inner\")\n",
    "df_apartment_contains.drop(columns = [\"CONTENT_ID\", \"CONTENT_NAME\"], inplace = True)\n",
    "df_apartment_contains.head()"
   ]
  },
  {
   "cell_type": "code",
   "execution_count": 6,
   "metadata": {},
   "outputs": [
    {
     "data": {
      "text/html": [
       "<div>\n",
       "<style scoped>\n",
       "    .dataframe tbody tr th:only-of-type {\n",
       "        vertical-align: middle;\n",
       "    }\n",
       "\n",
       "    .dataframe tbody tr th {\n",
       "        vertical-align: top;\n",
       "    }\n",
       "\n",
       "    .dataframe thead th {\n",
       "        text-align: right;\n",
       "    }\n",
       "</style>\n",
       "<table border=\"1\" class=\"dataframe\">\n",
       "  <thead>\n",
       "    <tr style=\"text-align: right;\">\n",
       "      <th></th>\n",
       "      <th>BOOKED</th>\n",
       "      <th>START_DATE</th>\n",
       "      <th>END_DATE</th>\n",
       "      <th>STATUS</th>\n",
       "      <th>PRICE</th>\n",
       "      <th>NUMBER_OF_GUESTS</th>\n",
       "      <th>ADVERTISER</th>\n",
       "      <th>GUEST_ID</th>\n",
       "      <th>APARTMENT_ID</th>\n",
       "      <th># of days pre booked</th>\n",
       "      <th># of nights</th>\n",
       "      <th>Tax</th>\n",
       "      <th>Earnings after Tax</th>\n",
       "    </tr>\n",
       "  </thead>\n",
       "  <tbody>\n",
       "  </tbody>\n",
       "</table>\n",
       "</div>"
      ],
      "text/plain": [
       "Empty DataFrame\n",
       "Columns: [BOOKED, START_DATE, END_DATE, STATUS, PRICE, NUMBER_OF_GUESTS, ADVERTISER, GUEST_ID, APARTMENT_ID, # of days pre booked, # of nights, Tax, Earnings after Tax]\n",
       "Index: []"
      ]
     },
     "execution_count": 6,
     "metadata": {},
     "output_type": "execute_result"
    }
   ],
   "source": [
    "df_reservation = df_SRC_Reservation.copy()\n",
    "\n",
    "df_reservation[\"START_DATE\"] = pd.to_datetime(df_reservation[\"START_DATE\"])\n",
    "df_reservation[\"END_DATE\"] = pd.to_datetime(df_reservation[\"END_DATE\"])\n",
    "df_reservation[\"BOOKED\"] = pd.to_datetime(df_reservation[\"BOOKED\"])\n",
    "\n",
    "df_reservation.drop(columns = [\"RESERVIATION_ID\", \"PAYMENT_METHOD\"], inplace = True)\n",
    "\n",
    "df_reservation[\"# of days pre booked\"] = (df_reservation[\"START_DATE\"] - df_reservation[\"BOOKED\"]).dt.days\n",
    "df_reservation[\"# of nights\"] = (df_reservation[\"END_DATE\"] - df_reservation[\"START_DATE\"]).dt.days\n",
    "\n",
    "df_reservation[\"Tax\"] = df_reservation[\"NUMBER_OF_GUESTS\"] * df_reservation[\"# of nights\"]\n",
    "df_reservation[\"Earnings after Tax\"] = df_reservation[\"PRICE\"] - df_reservation[\"Tax\"]\n",
    "\n",
    "df_reservation[\"ADVERTISER\"] = \"OLTP\"\n",
    "df_reservation.head()"
   ]
  },
  {
   "cell_type": "code",
   "execution_count": 7,
   "metadata": {},
   "outputs": [
    {
     "data": {
      "text/html": [
       "<div>\n",
       "<style scoped>\n",
       "    .dataframe tbody tr th:only-of-type {\n",
       "        vertical-align: middle;\n",
       "    }\n",
       "\n",
       "    .dataframe tbody tr th {\n",
       "        vertical-align: top;\n",
       "    }\n",
       "\n",
       "    .dataframe thead th {\n",
       "        text-align: right;\n",
       "    }\n",
       "</style>\n",
       "<table border=\"1\" class=\"dataframe\">\n",
       "  <thead>\n",
       "    <tr style=\"text-align: right;\">\n",
       "      <th></th>\n",
       "      <th>BOOKED</th>\n",
       "      <th>START_DATE</th>\n",
       "      <th>END_DATE</th>\n",
       "      <th>STATUS</th>\n",
       "      <th>PRICE</th>\n",
       "      <th>NUMBER_OF_GUESTS</th>\n",
       "      <th>ADVERTISER</th>\n",
       "      <th># of days pre booked</th>\n",
       "      <th># of nights</th>\n",
       "      <th>Tax</th>\n",
       "      <th>Earnings after Tax</th>\n",
       "      <th>GUEST_ID</th>\n",
       "      <th>COUNTRY_NAME</th>\n",
       "      <th>GUEST_NAME</th>\n",
       "      <th>CONTENT_QUANTITY</th>\n",
       "      <th>APARTMENT_ID</th>\n",
       "      <th>APARTMENT_NAME</th>\n",
       "    </tr>\n",
       "  </thead>\n",
       "  <tbody>\n",
       "  </tbody>\n",
       "</table>\n",
       "</div>"
      ],
      "text/plain": [
       "Empty DataFrame\n",
       "Columns: [BOOKED, START_DATE, END_DATE, STATUS, PRICE, NUMBER_OF_GUESTS, ADVERTISER, # of days pre booked, # of nights, Tax, Earnings after Tax, GUEST_ID, COUNTRY_NAME, GUEST_NAME, CONTENT_QUANTITY, APARTMENT_ID, APARTMENT_NAME]\n",
       "Index: []"
      ]
     },
     "execution_count": 7,
     "metadata": {},
     "output_type": "execute_result"
    }
   ],
   "source": [
    "df_reservation_guest = pd.merge(df_reservation, df_guest_country, on = \"GUEST_ID\", how = 'left')\n",
    "\n",
    "df_merged = pd.merge(df_reservation_guest, df_apartment_contains, on = \"APARTMENT_ID\", how = 'left')\n",
    "df_merged.head()"
   ]
  },
  {
   "cell_type": "code",
   "execution_count": 8,
   "metadata": {},
   "outputs": [],
   "source": [
    "df_merged.rename(columns = {\"COUNTRY_NAME\": \"Origin\", \"GUEST_NAME\": \"Guest name\", \"STATUS\" : \"Status\", \"NUMBER_OF_GUESTS\" : \"# of guests\", \"BOOKED\" : \"Booked\", \"START_DATE\" : \"Start date\", \n",
    "                            \"END_DATE\" : \"End date\", \"ADVERTISER\" : \"Advertiser\", \"PRICE\" : \"Earnings\", \"APARTMENT_NAME\" : \"Listing name\", \"CONTENT_QUANTITY\": \"# of beds\"}, inplace = True)\n",
    "\n",
    "df = df_merged[[\"Status\", \"Guest name\", \"Origin\", \"# of guests\", \"Booked\", \"Start date\", \"End date\", \"# of nights\", \"# of days pre booked\", \"Listing name\", \"# of beds\", \"Earnings\", \"Tax\", \"Earnings after Tax\", \"Advertiser\"]]"
   ]
  },
  {
   "attachments": {},
   "cell_type": "markdown",
   "metadata": {},
   "source": [
    "Exporting data frame to excel file"
   ]
  },
  {
   "cell_type": "code",
   "execution_count": 9,
   "metadata": {},
   "outputs": [
    {
     "data": {
      "text/html": [
       "<div>\n",
       "<style scoped>\n",
       "    .dataframe tbody tr th:only-of-type {\n",
       "        vertical-align: middle;\n",
       "    }\n",
       "\n",
       "    .dataframe tbody tr th {\n",
       "        vertical-align: top;\n",
       "    }\n",
       "\n",
       "    .dataframe thead th {\n",
       "        text-align: right;\n",
       "    }\n",
       "</style>\n",
       "<table border=\"1\" class=\"dataframe\">\n",
       "  <thead>\n",
       "    <tr style=\"text-align: right;\">\n",
       "      <th></th>\n",
       "      <th>Status</th>\n",
       "      <th>Guest name</th>\n",
       "      <th>Origin</th>\n",
       "      <th># of guests</th>\n",
       "      <th>Booked</th>\n",
       "      <th>Start date</th>\n",
       "      <th>End date</th>\n",
       "      <th># of nights</th>\n",
       "      <th># of days pre booked</th>\n",
       "      <th>Listing name</th>\n",
       "      <th># of beds</th>\n",
       "      <th>Earnings</th>\n",
       "      <th>Tax</th>\n",
       "      <th>Earnings after Tax</th>\n",
       "      <th>Advertiser</th>\n",
       "    </tr>\n",
       "  </thead>\n",
       "  <tbody>\n",
       "  </tbody>\n",
       "</table>\n",
       "</div>"
      ],
      "text/plain": [
       "Empty DataFrame\n",
       "Columns: [Status, Guest name, Origin, # of guests, Booked, Start date, End date, # of nights, # of days pre booked, Listing name, # of beds, Earnings, Tax, Earnings after Tax, Advertiser]\n",
       "Index: []"
      ]
     },
     "execution_count": 9,
     "metadata": {},
     "output_type": "execute_result"
    }
   ],
   "source": [
    "exportPath = \"./preprocessed files/\"\n",
    "\n",
    "df.to_excel(exportPath + \"Final_Oltp.xlsx\")\n",
    "df.head()"
   ]
  }
 ],
 "metadata": {
  "kernelspec": {
   "display_name": "base",
   "language": "python",
   "name": "python3"
  },
  "language_info": {
   "codemirror_mode": {
    "name": "ipython",
    "version": 3
   },
   "file_extension": ".py",
   "mimetype": "text/x-python",
   "name": "python",
   "nbconvert_exporter": "python",
   "pygments_lexer": "ipython3",
   "version": "3.9.7"
  },
  "orig_nbformat": 4
 },
 "nbformat": 4,
 "nbformat_minor": 2
}
