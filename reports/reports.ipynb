{
 "cells": [
  {
   "cell_type": "code",
   "execution_count": 98,
   "metadata": {},
   "outputs": [],
   "source": [
    "import psycopg2\n",
    "import pandas as pd"
   ]
  },
  {
   "cell_type": "code",
   "execution_count": 99,
   "metadata": {},
   "outputs": [],
   "source": [
    "def extract(table_names):\n",
    "    try:\n",
    "\n",
    "        uid, pwd, server, database, port_id = \"etl\", \"pass\", \"localhost\", \"DW_Reservation_System\", 5432\n",
    "\n",
    "        conn = psycopg2.connect(host=server, dbname=database, user=uid, password=pwd, port=port_id)\n",
    "\n",
    "        for table_name in table_names:\n",
    "\n",
    "            sqlTxt = f\"SELECT * FROM public.\\\"{table_name}\\\"\"\n",
    "\n",
    "            df = pd.read_sql(sqlTxt, conn)\n",
    "\n",
    "            variable = f'{table_name}'\n",
    "            globals()[variable] = df\n",
    "\n",
    "            print(f\"{variable} succesfully loaded!\")\n",
    "\n",
    "    except Exception as e:\n",
    "        print('Data extract error: ' + str(e))\n",
    "\n",
    "    finally:\n",
    "        conn.close()"
   ]
  },
  {
   "cell_type": "code",
   "execution_count": 100,
   "metadata": {},
   "outputs": [
    {
     "name": "stdout",
     "output_type": "stream",
     "text": [
      "dim_Apartment succesfully loaded!\n",
      "dim_Advertiser succesfully loaded!\n",
      "dim_Dates succesfully loaded!\n",
      "fct_Cashflow succesfully loaded!\n"
     ]
    }
   ],
   "source": [
    "table_names = [\"dim_Apartment\", \"dim_Advertiser\", \"dim_Dates\", \"fct_Cashflow\"]\n",
    "\n",
    "extract(table_names)"
   ]
  },
  {
   "attachments": {},
   "cell_type": "markdown",
   "metadata": {},
   "source": [
    "### First Theme"
   ]
  },
  {
   "cell_type": "code",
   "execution_count": 101,
   "metadata": {},
   "outputs": [
    {
     "data": {
      "text/html": [
       "<div>\n",
       "<style scoped>\n",
       "    .dataframe tbody tr th:only-of-type {\n",
       "        vertical-align: middle;\n",
       "    }\n",
       "\n",
       "    .dataframe tbody tr th {\n",
       "        vertical-align: top;\n",
       "    }\n",
       "\n",
       "    .dataframe thead th {\n",
       "        text-align: right;\n",
       "    }\n",
       "</style>\n",
       "<table border=\"1\" class=\"dataframe\">\n",
       "  <thead>\n",
       "    <tr style=\"text-align: right;\">\n",
       "      <th></th>\n",
       "      <th>advertiser_id</th>\n",
       "      <th>apartment_id</th>\n",
       "      <th>date_id</th>\n",
       "      <th>Price per day</th>\n",
       "      <th>Listing name</th>\n",
       "      <th>Advertiser</th>\n",
       "      <th>date</th>\n",
       "      <th>day</th>\n",
       "      <th>month</th>\n",
       "      <th>quarter</th>\n",
       "      <th>year</th>\n",
       "    </tr>\n",
       "  </thead>\n",
       "  <tbody>\n",
       "    <tr>\n",
       "      <th>0</th>\n",
       "      <td>1</td>\n",
       "      <td>3</td>\n",
       "      <td>1250</td>\n",
       "      <td>31.95</td>\n",
       "      <td>Studio with Patio</td>\n",
       "      <td>Airbnb</td>\n",
       "      <td>2019-06-03</td>\n",
       "      <td>3</td>\n",
       "      <td>6</td>\n",
       "      <td>2</td>\n",
       "      <td>2019</td>\n",
       "    </tr>\n",
       "    <tr>\n",
       "      <th>1</th>\n",
       "      <td>1</td>\n",
       "      <td>3</td>\n",
       "      <td>1251</td>\n",
       "      <td>31.95</td>\n",
       "      <td>Studio with Patio</td>\n",
       "      <td>Airbnb</td>\n",
       "      <td>2019-06-04</td>\n",
       "      <td>4</td>\n",
       "      <td>6</td>\n",
       "      <td>2</td>\n",
       "      <td>2019</td>\n",
       "    </tr>\n",
       "    <tr>\n",
       "      <th>2</th>\n",
       "      <td>1</td>\n",
       "      <td>3</td>\n",
       "      <td>1252</td>\n",
       "      <td>31.95</td>\n",
       "      <td>Studio with Patio</td>\n",
       "      <td>Airbnb</td>\n",
       "      <td>2019-06-05</td>\n",
       "      <td>5</td>\n",
       "      <td>6</td>\n",
       "      <td>2</td>\n",
       "      <td>2019</td>\n",
       "    </tr>\n",
       "    <tr>\n",
       "      <th>3</th>\n",
       "      <td>1</td>\n",
       "      <td>3</td>\n",
       "      <td>1253</td>\n",
       "      <td>31.95</td>\n",
       "      <td>Studio with Patio</td>\n",
       "      <td>Airbnb</td>\n",
       "      <td>2019-06-06</td>\n",
       "      <td>6</td>\n",
       "      <td>6</td>\n",
       "      <td>2</td>\n",
       "      <td>2019</td>\n",
       "    </tr>\n",
       "    <tr>\n",
       "      <th>4</th>\n",
       "      <td>1</td>\n",
       "      <td>3</td>\n",
       "      <td>1255</td>\n",
       "      <td>31.95</td>\n",
       "      <td>Studio with Patio</td>\n",
       "      <td>Airbnb</td>\n",
       "      <td>2019-06-08</td>\n",
       "      <td>8</td>\n",
       "      <td>6</td>\n",
       "      <td>2</td>\n",
       "      <td>2019</td>\n",
       "    </tr>\n",
       "  </tbody>\n",
       "</table>\n",
       "</div>"
      ],
      "text/plain": [
       "   advertiser_id  apartment_id  date_id  Price per day       Listing name  \\\n",
       "0              1             3     1250          31.95  Studio with Patio   \n",
       "1              1             3     1251          31.95  Studio with Patio   \n",
       "2              1             3     1252          31.95  Studio with Patio   \n",
       "3              1             3     1253          31.95  Studio with Patio   \n",
       "4              1             3     1255          31.95  Studio with Patio   \n",
       "\n",
       "  Advertiser       date  day  month  quarter  year  \n",
       "0     Airbnb 2019-06-03    3      6        2  2019  \n",
       "1     Airbnb 2019-06-04    4      6        2  2019  \n",
       "2     Airbnb 2019-06-05    5      6        2  2019  \n",
       "3     Airbnb 2019-06-06    6      6        2  2019  \n",
       "4     Airbnb 2019-06-08    8      6        2  2019  "
      ]
     },
     "execution_count": 101,
     "metadata": {},
     "output_type": "execute_result"
    }
   ],
   "source": [
    "merged_df = fct_Cashflow.merge(dim_Apartment , on='apartment_id', how='left')\n",
    "merged_df = merged_df.merge(dim_Advertiser  , on='advertiser_id', how='left')\n",
    "merged_df = merged_df.merge(dim_Dates, on='date_id', how='left')\n",
    "merged_df.head()"
   ]
  },
  {
   "cell_type": "code",
   "execution_count": null,
   "metadata": {},
   "outputs": [],
   "source": []
  },
  {
   "cell_type": "code",
   "execution_count": null,
   "metadata": {},
   "outputs": [],
   "source": []
  },
  {
   "attachments": {},
   "cell_type": "markdown",
   "metadata": {},
   "source": [
    "### Second Theme"
   ]
  },
  {
   "attachments": {},
   "cell_type": "markdown",
   "metadata": {},
   "source": [
    "### Third Theme"
   ]
  },
  {
   "cell_type": "code",
   "execution_count": null,
   "metadata": {},
   "outputs": [],
   "source": []
  }
 ],
 "metadata": {
  "kernelspec": {
   "display_name": "base",
   "language": "python",
   "name": "python3"
  },
  "language_info": {
   "codemirror_mode": {
    "name": "ipython",
    "version": 3
   },
   "file_extension": ".py",
   "mimetype": "text/x-python",
   "name": "python",
   "nbconvert_exporter": "python",
   "pygments_lexer": "ipython3",
   "version": "3.9.7"
  },
  "orig_nbformat": 4
 },
 "nbformat": 4,
 "nbformat_minor": 2
}
