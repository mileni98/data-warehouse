{
 "cells": [
  {
   "cell_type": "code",
   "execution_count": 26,
   "metadata": {},
   "outputs": [],
   "source": [
    "import psycopg2\n",
    "import pandas as pd"
   ]
  },
  {
   "cell_type": "code",
   "execution_count": 27,
   "metadata": {},
   "outputs": [],
   "source": [
    "def extract(table_names):\n",
    "    try:\n",
    "\n",
    "        uid, pwd, server, database, port_id = \"etl\", \"pass\", \"localhost\", \"DW_Reservation_System\", 5432\n",
    "\n",
    "        conn = psycopg2.connect(host=server, dbname=database, user=uid, password=pwd, port=port_id)\n",
    "\n",
    "        for table_name in table_names:\n",
    "\n",
    "            sqlTxt = f\"SELECT * FROM public.\\\"{table_name}\\\"\"\n",
    "\n",
    "            df = pd.read_sql(sqlTxt, conn)\n",
    "\n",
    "            variable = f'{table_name}'\n",
    "            globals()[variable] = df\n",
    "\n",
    "            print(f\"{variable} succesfully loaded!\")\n",
    "\n",
    "    except Exception as e:\n",
    "        print('Data extract error: ' + str(e))\n",
    "\n",
    "    finally:\n",
    "        conn.close()"
   ]
  },
  {
   "cell_type": "code",
   "execution_count": 28,
   "metadata": {},
   "outputs": [
    {
     "name": "stdout",
     "output_type": "stream",
     "text": [
      "dim_Apartment succesfully loaded!\n",
      "dim_Advertiser succesfully loaded!\n",
      "dim_Dates succesfully loaded!\n",
      "fct_Cashflow succesfully loaded!\n"
     ]
    }
   ],
   "source": [
    "table_names = [\"dim_Apartment\", \"dim_Advertiser\", \"dim_Dates\", \"fct_Cashflow\"]\n",
    "\n",
    "extract(table_names)"
   ]
  },
  {
   "cell_type": "code",
   "execution_count": null,
   "metadata": {},
   "outputs": [],
   "source": []
  }
 ],
 "metadata": {
  "kernelspec": {
   "display_name": "base",
   "language": "python",
   "name": "python3"
  },
  "language_info": {
   "codemirror_mode": {
    "name": "ipython",
    "version": 3
   },
   "file_extension": ".py",
   "mimetype": "text/x-python",
   "name": "python",
   "nbconvert_exporter": "python",
   "pygments_lexer": "ipython3",
   "version": "3.9.7"
  },
  "orig_nbformat": 4
 },
 "nbformat": 4,
 "nbformat_minor": 2
}
