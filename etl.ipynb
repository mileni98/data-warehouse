{
 "cells": [
  {
   "cell_type": "code",
   "execution_count": 1,
   "metadata": {},
   "outputs": [],
   "source": [
    "import cx_Oracle\n",
    "import pandas as pd"
   ]
  },
  {
   "cell_type": "code",
   "execution_count": 2,
   "metadata": {},
   "outputs": [],
   "source": [
    "def extract_oltp(table_names):\n",
    "\n",
    "    conStr = 'system/oracle@localhost:1521/xe'\n",
    "\n",
    "    # initialize the connection object\n",
    "    conn = None\n",
    "\n",
    "    try:\n",
    "\n",
    "        # create a connection object    \n",
    "        conn = cx_Oracle.connect(conStr)\n",
    "\n",
    "        # get a cursor object from the connection\n",
    "        cur = conn.cursor()\n",
    "\n",
    "        for table_name in table_names:\n",
    "\n",
    "            # construct SQL query using table_name argument\n",
    "            sqlTxt = f'select * from \"SSP_RES\".{table_name}'\n",
    "\n",
    "            # execute query and fetch results\n",
    "            cur.execute(sqlTxt)\n",
    "            record = cur.fetchall()\n",
    "\n",
    "            # create pandas DataFrame from query results\n",
    "            df= pd.DataFrame.from_records(record, columns = [x[0] for x in cur.description] )\n",
    "\n",
    "            variable = f'df_{table_name}'\n",
    "            globals()[variable] = df\n",
    "\n",
    "            print(f\"{variable} succesfully loaded!\")        \n",
    "\n",
    "    except Exception as err:\n",
    "        print('Error while connecting to the db')\n",
    "        print(err)    \n",
    "        \n",
    "    finally:\n",
    "        if(conn):\n",
    "            # close the cursor object to avoid memory leaks\n",
    "            cur.close()\n",
    "\n",
    "            # close the connection object also\n",
    "            conn.close()"
   ]
  },
  {
   "cell_type": "code",
   "execution_count": 3,
   "metadata": {},
   "outputs": [],
   "source": [
    "def extract_excels():\n",
    "    try:\n",
    "        path =  'preprocessing/preprocessed files/'\n",
    "\n",
    "        df_Airbnb = pd.read_excel(path + 'Final_Airbnb.xlsx')\n",
    "        print(\"df_Airbnb succesfully loaded!\")   \n",
    "\n",
    "        df_booking = pd.read_excel(path + 'Final_Booking.xlsx')\n",
    "        print(\"df_Booking succesfully loaded!\")  \n",
    "\n",
    "    except Exception as err:\n",
    "        print('Error while connecting to the db')\n",
    "        print(err) "
   ]
  },
  {
   "cell_type": "code",
   "execution_count": 4,
   "metadata": {},
   "outputs": [],
   "source": [
    "table_names = [\n",
    "    \"SRC_Country\", \"SRC_City\", \"SRC_Guest\", \"SRC_Building\", \"SRC_Apartment_Type\", \"SRC_Apartment\",\n",
    "    \"SRC_Reservation\", \"SRC_Content\", \"SRC_Contains\", \"SRC_Apartment_Ocupancy\", \"SRC_Pricelist\"]"
   ]
  },
  {
   "cell_type": "code",
   "execution_count": 5,
   "metadata": {},
   "outputs": [
    {
     "name": "stdout",
     "output_type": "stream",
     "text": [
      "df_Airbnb succesfully loaded!\n",
      "df_Booking succesfully loaded!\n",
      "df_SRC_Country succesfully loaded!\n",
      "df_SRC_City succesfully loaded!\n",
      "df_SRC_Guest succesfully loaded!\n",
      "df_SRC_Building succesfully loaded!\n",
      "df_SRC_Apartment_Type succesfully loaded!\n",
      "df_SRC_Apartment succesfully loaded!\n",
      "df_SRC_Reservation succesfully loaded!\n",
      "df_SRC_Content succesfully loaded!\n",
      "df_SRC_Contains succesfully loaded!\n",
      "df_SRC_Apartment_Ocupancy succesfully loaded!\n",
      "df_SRC_Pricelist succesfully loaded!\n"
     ]
    }
   ],
   "source": [
    "extract_excels()\n",
    "extract_oltp(table_names)"
   ]
  },
  {
   "cell_type": "code",
   "execution_count": null,
   "metadata": {},
   "outputs": [],
   "source": []
  }
 ],
 "metadata": {
  "kernelspec": {
   "display_name": "base",
   "language": "python",
   "name": "python3"
  },
  "language_info": {
   "codemirror_mode": {
    "name": "ipython",
    "version": 3
   },
   "file_extension": ".py",
   "mimetype": "text/x-python",
   "name": "python",
   "nbconvert_exporter": "python",
   "pygments_lexer": "ipython3",
   "version": "3.9.7"
  },
  "orig_nbformat": 4
 },
 "nbformat": 4,
 "nbformat_minor": 2
}
