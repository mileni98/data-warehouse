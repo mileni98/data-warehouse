{
 "cells": [
  {
   "cell_type": "code",
   "execution_count": 1,
   "metadata": {
    "execution": {
     "iopub.execute_input": "2023-05-14T09:24:37.948270Z",
     "iopub.status.busy": "2023-05-14T09:24:37.947237Z",
     "iopub.status.idle": "2023-05-14T09:24:38.481234Z",
     "shell.execute_reply": "2023-05-14T09:24:38.481234Z"
    }
   },
   "outputs": [],
   "source": [
    "import pandas as pd\n",
    "from sqlalchemy import create_engine"
   ]
  },
  {
   "attachments": {},
   "cell_type": "markdown",
   "metadata": {},
   "source": [
    "## Extract"
   ]
  },
  {
   "cell_type": "code",
   "execution_count": 2,
   "metadata": {
    "execution": {
     "iopub.execute_input": "2023-05-14T09:24:38.486269Z",
     "iopub.status.busy": "2023-05-14T09:24:38.485236Z",
     "iopub.status.idle": "2023-05-14T09:24:38.497237Z",
     "shell.execute_reply": "2023-05-14T09:24:38.497237Z"
    }
   },
   "outputs": [],
   "source": [
    "def extract_excels():\n",
    "    try:\n",
    "        path =  '../preprocessing/preprocessed files/'\n",
    "\n",
    "        df_Airbnb = pd.read_excel(path + 'Final_Airbnb.xlsx')\n",
    "        print(\"df_Airbnb succesfully loaded!\")   \n",
    "\n",
    "        df_Booking = pd.read_excel(path + 'Final_Booking.xlsx')\n",
    "        print(\"df_Booking succesfully loaded!\")  \n",
    "\n",
    "        df_Oltp = pd.read_excel(path + 'Final_Oltp.xlsx')\n",
    "        print(\"df_Oltp succesfully loaded!\")\n",
    "\n",
    "    except Exception as err:\n",
    "        print('Error while connecting to the db')\n",
    "        print(err) \n",
    "\n",
    "    return df_Airbnb, df_Booking, df_Oltp"
   ]
  },
  {
   "cell_type": "code",
   "execution_count": 3,
   "metadata": {
    "execution": {
     "iopub.execute_input": "2023-05-14T09:24:38.501269Z",
     "iopub.status.busy": "2023-05-14T09:24:38.500282Z",
     "iopub.status.idle": "2023-05-14T09:24:39.231272Z",
     "shell.execute_reply": "2023-05-14T09:24:39.231272Z"
    }
   },
   "outputs": [
    {
     "name": "stdout",
     "output_type": "stream",
     "text": [
      "df_Airbnb succesfully loaded!\n",
      "df_Booking succesfully loaded!\n",
      "df_Oltp succesfully loaded!\n"
     ]
    }
   ],
   "source": [
    "df_Airbnb, df_Booking, df_Oltp = extract_excels()"
   ]
  },
  {
   "attachments": {},
   "cell_type": "markdown",
   "metadata": {},
   "source": [
    "Merge all files into one"
   ]
  },
  {
   "cell_type": "code",
   "execution_count": 4,
   "metadata": {
    "execution": {
     "iopub.execute_input": "2023-05-14T09:24:39.245269Z",
     "iopub.status.busy": "2023-05-14T09:24:39.245269Z",
     "iopub.status.idle": "2023-05-14T09:24:39.277269Z",
     "shell.execute_reply": "2023-05-14T09:24:39.277269Z"
    }
   },
   "outputs": [
    {
     "data": {
      "text/html": [
       "<div>\n",
       "<style scoped>\n",
       "    .dataframe tbody tr th:only-of-type {\n",
       "        vertical-align: middle;\n",
       "    }\n",
       "\n",
       "    .dataframe tbody tr th {\n",
       "        vertical-align: top;\n",
       "    }\n",
       "\n",
       "    .dataframe thead th {\n",
       "        text-align: right;\n",
       "    }\n",
       "</style>\n",
       "<table border=\"1\" class=\"dataframe\">\n",
       "  <thead>\n",
       "    <tr style=\"text-align: right;\">\n",
       "      <th></th>\n",
       "      <th>Unnamed: 0</th>\n",
       "      <th>Status</th>\n",
       "      <th>Guest name</th>\n",
       "      <th>Origin</th>\n",
       "      <th># of guests</th>\n",
       "      <th>Booked</th>\n",
       "      <th>Start date</th>\n",
       "      <th>End date</th>\n",
       "      <th># of nights</th>\n",
       "      <th># of days pre booked</th>\n",
       "      <th>Listing name</th>\n",
       "      <th># of beds</th>\n",
       "      <th>Earnings</th>\n",
       "      <th>Tax</th>\n",
       "      <th>Earnings after Tax</th>\n",
       "      <th>Advertiser</th>\n",
       "      <th>Cancel date</th>\n",
       "      <th># of days cancel</th>\n",
       "      <th>avg_rate_per_reservation</th>\n",
       "    </tr>\n",
       "  </thead>\n",
       "  <tbody>\n",
       "    <tr>\n",
       "      <th>1</th>\n",
       "      <td>1</td>\n",
       "      <td>Confirmed</td>\n",
       "      <td>Youstina Daoud</td>\n",
       "      <td>Egypt</td>\n",
       "      <td>2</td>\n",
       "      <td>2019-03-30</td>\n",
       "      <td>2019-06-03</td>\n",
       "      <td>2019-06-05</td>\n",
       "      <td>2</td>\n",
       "      <td>65</td>\n",
       "      <td>Studio with Patio</td>\n",
       "      <td>2</td>\n",
       "      <td>67.90</td>\n",
       "      <td>4.0</td>\n",
       "      <td>63.90</td>\n",
       "      <td>Airbnb</td>\n",
       "      <td>0</td>\n",
       "      <td>0.0</td>\n",
       "      <td>31.95</td>\n",
       "    </tr>\n",
       "    <tr>\n",
       "      <th>6</th>\n",
       "      <td>6</td>\n",
       "      <td>Confirmed</td>\n",
       "      <td>Kristina Holm Jensen</td>\n",
       "      <td>Denmark</td>\n",
       "      <td>2</td>\n",
       "      <td>2019-05-05</td>\n",
       "      <td>2019-06-05</td>\n",
       "      <td>2019-06-07</td>\n",
       "      <td>2</td>\n",
       "      <td>31</td>\n",
       "      <td>Studio with Patio</td>\n",
       "      <td>2</td>\n",
       "      <td>67.90</td>\n",
       "      <td>4.0</td>\n",
       "      <td>63.90</td>\n",
       "      <td>Airbnb</td>\n",
       "      <td>0</td>\n",
       "      <td>0.0</td>\n",
       "      <td>31.95</td>\n",
       "    </tr>\n",
       "    <tr>\n",
       "      <th>2</th>\n",
       "      <td>2</td>\n",
       "      <td>Confirmed</td>\n",
       "      <td>Öznur Balaban</td>\n",
       "      <td>Turkey</td>\n",
       "      <td>2</td>\n",
       "      <td>2019-04-09</td>\n",
       "      <td>2019-06-08</td>\n",
       "      <td>2019-06-09</td>\n",
       "      <td>1</td>\n",
       "      <td>60</td>\n",
       "      <td>Studio with Patio</td>\n",
       "      <td>2</td>\n",
       "      <td>33.95</td>\n",
       "      <td>2.0</td>\n",
       "      <td>31.95</td>\n",
       "      <td>Airbnb</td>\n",
       "      <td>0</td>\n",
       "      <td>0.0</td>\n",
       "      <td>31.95</td>\n",
       "    </tr>\n",
       "  </tbody>\n",
       "</table>\n",
       "</div>"
      ],
      "text/plain": [
       "   Unnamed: 0     Status            Guest name   Origin  # of guests  \\\n",
       "1           1  Confirmed        Youstina Daoud    Egypt            2   \n",
       "6           6  Confirmed  Kristina Holm Jensen  Denmark            2   \n",
       "2           2  Confirmed         Öznur Balaban   Turkey            2   \n",
       "\n",
       "      Booked Start date   End date  # of nights  # of days pre booked  \\\n",
       "1 2019-03-30 2019-06-03 2019-06-05            2                    65   \n",
       "6 2019-05-05 2019-06-05 2019-06-07            2                    31   \n",
       "2 2019-04-09 2019-06-08 2019-06-09            1                    60   \n",
       "\n",
       "        Listing name  # of beds  Earnings  Tax  Earnings after Tax Advertiser  \\\n",
       "1  Studio with Patio          2     67.90  4.0               63.90     Airbnb   \n",
       "6  Studio with Patio          2     67.90  4.0               63.90     Airbnb   \n",
       "2  Studio with Patio          2     33.95  2.0               31.95     Airbnb   \n",
       "\n",
       "  Cancel date  # of days cancel  avg_rate_per_reservation  \n",
       "1           0               0.0                     31.95  \n",
       "6           0               0.0                     31.95  \n",
       "2           0               0.0                     31.95  "
      ]
     },
     "execution_count": 4,
     "metadata": {},
     "output_type": "execute_result"
    }
   ],
   "source": [
    "df_merged = pd.concat([df_Airbnb, df_Booking, df_Oltp]).sort_values(\"Start date\")\n",
    "df_merged[\"avg_rate_per_reservation\"] = df_merged[\"Earnings after Tax\"] / df_merged[\"# of nights\"]\n",
    "df_merged.head(3)"
   ]
  },
  {
   "attachments": {},
   "cell_type": "markdown",
   "metadata": {},
   "source": [
    "## Third DW theme - Transform"
   ]
  },
  {
   "cell_type": "code",
   "execution_count": 5,
   "metadata": {
    "execution": {
     "iopub.execute_input": "2023-05-14T09:24:39.280236Z",
     "iopub.status.busy": "2023-05-14T09:24:39.280236Z",
     "iopub.status.idle": "2023-05-14T09:24:39.297281Z",
     "shell.execute_reply": "2023-05-14T09:24:39.297281Z"
    }
   },
   "outputs": [],
   "source": [
    "df = pd.DataFrame()"
   ]
  },
  {
   "attachments": {},
   "cell_type": "markdown",
   "metadata": {},
   "source": [
    "Dim_Apartment - dimension table"
   ]
  },
  {
   "cell_type": "code",
   "execution_count": 6,
   "metadata": {
    "execution": {
     "iopub.execute_input": "2023-05-14T09:24:39.305272Z",
     "iopub.status.busy": "2023-05-14T09:24:39.304236Z",
     "iopub.status.idle": "2023-05-14T09:24:39.331237Z",
     "shell.execute_reply": "2023-05-14T09:24:39.330244Z"
    }
   },
   "outputs": [
    {
     "data": {
      "text/html": [
       "<div>\n",
       "<style scoped>\n",
       "    .dataframe tbody tr th:only-of-type {\n",
       "        vertical-align: middle;\n",
       "    }\n",
       "\n",
       "    .dataframe tbody tr th {\n",
       "        vertical-align: top;\n",
       "    }\n",
       "\n",
       "    .dataframe thead th {\n",
       "        text-align: right;\n",
       "    }\n",
       "</style>\n",
       "<table border=\"1\" class=\"dataframe\">\n",
       "  <thead>\n",
       "    <tr style=\"text-align: right;\">\n",
       "      <th></th>\n",
       "      <th>apartment_id</th>\n",
       "      <th>Listing name</th>\n",
       "    </tr>\n",
       "  </thead>\n",
       "  <tbody>\n",
       "    <tr>\n",
       "      <th>7</th>\n",
       "      <td>1</td>\n",
       "      <td>One-Bedroom Apartment with Balcony and Sea View</td>\n",
       "    </tr>\n",
       "    <tr>\n",
       "      <th>22</th>\n",
       "      <td>2</td>\n",
       "      <td>One-Bedroom Apartment with Patio and Sea View</td>\n",
       "    </tr>\n",
       "    <tr>\n",
       "      <th>1</th>\n",
       "      <td>3</td>\n",
       "      <td>Studio with Patio</td>\n",
       "    </tr>\n",
       "    <tr>\n",
       "      <th>23</th>\n",
       "      <td>4</td>\n",
       "      <td>Studio with Patio and Sea View</td>\n",
       "    </tr>\n",
       "  </tbody>\n",
       "</table>\n",
       "</div>"
      ],
      "text/plain": [
       "    apartment_id                                     Listing name\n",
       "7              1  One-Bedroom Apartment with Balcony and Sea View\n",
       "22             2    One-Bedroom Apartment with Patio and Sea View\n",
       "1              3                                Studio with Patio\n",
       "23             4                   Studio with Patio and Sea View"
      ]
     },
     "execution_count": 6,
     "metadata": {},
     "output_type": "execute_result"
    }
   ],
   "source": [
    "# init empty df with column names\n",
    "dim_Apartment = pd.concat([df.copy(), pd.DataFrame(columns=['apartment_id', 'apartment_name'])], axis=1)\n",
    "\n",
    "df_merged[\"apartment_id\"] = df_merged[\"Listing name\"].rank(method='dense').astype(int)\n",
    "\n",
    "dim_Apartment = df_merged[['apartment_id', 'Listing name']].drop_duplicates().sort_values(\"apartment_id\")\n",
    "dim_Apartment.head()\n"
   ]
  },
  {
   "attachments": {},
   "cell_type": "markdown",
   "metadata": {},
   "source": [
    "Dim_Days_Prebooked - interval dimension table"
   ]
  },
  {
   "cell_type": "code",
   "execution_count": 7,
   "metadata": {
    "execution": {
     "iopub.execute_input": "2023-05-14T09:24:39.337239Z",
     "iopub.status.busy": "2023-05-14T09:24:39.337239Z",
     "iopub.status.idle": "2023-05-14T09:24:39.364239Z",
     "shell.execute_reply": "2023-05-14T09:24:39.365244Z"
    }
   },
   "outputs": [
    {
     "data": {
      "text/html": [
       "<div>\n",
       "<style scoped>\n",
       "    .dataframe tbody tr th:only-of-type {\n",
       "        vertical-align: middle;\n",
       "    }\n",
       "\n",
       "    .dataframe tbody tr th {\n",
       "        vertical-align: top;\n",
       "    }\n",
       "\n",
       "    .dataframe thead th {\n",
       "        text-align: right;\n",
       "    }\n",
       "</style>\n",
       "<table border=\"1\" class=\"dataframe\">\n",
       "  <thead>\n",
       "    <tr style=\"text-align: right;\">\n",
       "      <th></th>\n",
       "      <th>prebook_id</th>\n",
       "      <th>prebook_interval</th>\n",
       "      <th>date_from</th>\n",
       "      <th>date_to</th>\n",
       "    </tr>\n",
       "  </thead>\n",
       "  <tbody>\n",
       "    <tr>\n",
       "      <th>0</th>\n",
       "      <td>1</td>\n",
       "      <td>0-2 days</td>\n",
       "      <td>0</td>\n",
       "      <td>2</td>\n",
       "    </tr>\n",
       "    <tr>\n",
       "      <th>1</th>\n",
       "      <td>2</td>\n",
       "      <td>3-7 days</td>\n",
       "      <td>3</td>\n",
       "      <td>7</td>\n",
       "    </tr>\n",
       "    <tr>\n",
       "      <th>2</th>\n",
       "      <td>3</td>\n",
       "      <td>8-14 days</td>\n",
       "      <td>8</td>\n",
       "      <td>14</td>\n",
       "    </tr>\n",
       "    <tr>\n",
       "      <th>3</th>\n",
       "      <td>4</td>\n",
       "      <td>15-30 days</td>\n",
       "      <td>15</td>\n",
       "      <td>30</td>\n",
       "    </tr>\n",
       "    <tr>\n",
       "      <th>4</th>\n",
       "      <td>5</td>\n",
       "      <td>31-60 days</td>\n",
       "      <td>31</td>\n",
       "      <td>60</td>\n",
       "    </tr>\n",
       "  </tbody>\n",
       "</table>\n",
       "</div>"
      ],
      "text/plain": [
       "   prebook_id prebook_interval  date_from  date_to\n",
       "0           1         0-2 days          0        2\n",
       "1           2         3-7 days          3        7\n",
       "2           3        8-14 days          8       14\n",
       "3           4       15-30 days         15       30\n",
       "4           5       31-60 days         31       60"
      ]
     },
     "execution_count": 7,
     "metadata": {},
     "output_type": "execute_result"
    }
   ],
   "source": [
    "Dim_Days_Prebooked_data = {\n",
    "    'prebook_id': [1,2,3,4,5,6],\n",
    "    'prebook_interval': [\"0-2 days\", \"3-7 days\", \"8-14 days\", \"15-30 days\", \"31-60 days\", \"60+ days\"],\n",
    "    'date_from': [0, 3, 8, 15, 31, 61],\n",
    "    'date_to': [2, 7, 14, 30, 60, 9999]\n",
    "}\n",
    "\n",
    "Dim_Days_Prebooked = pd.DataFrame(Dim_Days_Prebooked_data)\n",
    "Dim_Days_Prebooked.head()"
   ]
  },
  {
   "attachments": {},
   "cell_type": "markdown",
   "metadata": {},
   "source": [
    "Dim_No_Days_Cancelled - interval dimension table"
   ]
  },
  {
   "cell_type": "code",
   "execution_count": 8,
   "metadata": {
    "execution": {
     "iopub.execute_input": "2023-05-14T09:24:39.374271Z",
     "iopub.status.busy": "2023-05-14T09:24:39.373291Z",
     "iopub.status.idle": "2023-05-14T09:24:39.388197Z",
     "shell.execute_reply": "2023-05-14T09:24:39.387198Z"
    }
   },
   "outputs": [
    {
     "data": {
      "text/html": [
       "<div>\n",
       "<style scoped>\n",
       "    .dataframe tbody tr th:only-of-type {\n",
       "        vertical-align: middle;\n",
       "    }\n",
       "\n",
       "    .dataframe tbody tr th {\n",
       "        vertical-align: top;\n",
       "    }\n",
       "\n",
       "    .dataframe thead th {\n",
       "        text-align: right;\n",
       "    }\n",
       "</style>\n",
       "<table border=\"1\" class=\"dataframe\">\n",
       "  <thead>\n",
       "    <tr style=\"text-align: right;\">\n",
       "      <th></th>\n",
       "      <th>cancel_id</th>\n",
       "      <th>cancel_interval</th>\n",
       "      <th>date_from</th>\n",
       "      <th>date_to</th>\n",
       "    </tr>\n",
       "  </thead>\n",
       "  <tbody>\n",
       "    <tr>\n",
       "      <th>0</th>\n",
       "      <td>1</td>\n",
       "      <td>0-2 days</td>\n",
       "      <td>0</td>\n",
       "      <td>2</td>\n",
       "    </tr>\n",
       "    <tr>\n",
       "      <th>1</th>\n",
       "      <td>2</td>\n",
       "      <td>3-7 days</td>\n",
       "      <td>3</td>\n",
       "      <td>7</td>\n",
       "    </tr>\n",
       "    <tr>\n",
       "      <th>2</th>\n",
       "      <td>3</td>\n",
       "      <td>8-14 days</td>\n",
       "      <td>8</td>\n",
       "      <td>14</td>\n",
       "    </tr>\n",
       "    <tr>\n",
       "      <th>3</th>\n",
       "      <td>4</td>\n",
       "      <td>15-30 days</td>\n",
       "      <td>15</td>\n",
       "      <td>30</td>\n",
       "    </tr>\n",
       "    <tr>\n",
       "      <th>4</th>\n",
       "      <td>5</td>\n",
       "      <td>31-60 days</td>\n",
       "      <td>31</td>\n",
       "      <td>60</td>\n",
       "    </tr>\n",
       "  </tbody>\n",
       "</table>\n",
       "</div>"
      ],
      "text/plain": [
       "   cancel_id cancel_interval  date_from  date_to\n",
       "0          1        0-2 days          0        2\n",
       "1          2        3-7 days          3        7\n",
       "2          3       8-14 days          8       14\n",
       "3          4      15-30 days         15       30\n",
       "4          5      31-60 days         31       60"
      ]
     },
     "execution_count": 8,
     "metadata": {},
     "output_type": "execute_result"
    }
   ],
   "source": [
    "Dim_No_Days_Cancelled_data = {\n",
    "    'cancel_id': [1,2,3,4,5,6],\n",
    "    'cancel_interval': [\"0-2 days\", \"3-7 days\", \"8-14 days\", \"15-30 days\", \"31-60 days\", \"60+ days\"],\n",
    "    'date_from': [0, 3, 8, 15, 31, 61],\n",
    "    'date_to': [2, 7, 14, 30, 60, 9999]\n",
    "}\n",
    "\n",
    "Dim_No_Days_Cancelled = pd.DataFrame(Dim_No_Days_Cancelled_data)\n",
    "Dim_No_Days_Cancelled.head()"
   ]
  },
  {
   "attachments": {},
   "cell_type": "markdown",
   "metadata": {},
   "source": [
    "Dim_Time - dimension table"
   ]
  },
  {
   "cell_type": "code",
   "execution_count": 9,
   "metadata": {
    "execution": {
     "iopub.execute_input": "2023-05-14T09:24:39.400233Z",
     "iopub.status.busy": "2023-05-14T09:24:39.397196Z",
     "iopub.status.idle": "2023-05-14T09:24:39.452233Z",
     "shell.execute_reply": "2023-05-14T09:24:39.451198Z"
    }
   },
   "outputs": [
    {
     "data": {
      "text/html": [
       "<div>\n",
       "<style scoped>\n",
       "    .dataframe tbody tr th:only-of-type {\n",
       "        vertical-align: middle;\n",
       "    }\n",
       "\n",
       "    .dataframe tbody tr th {\n",
       "        vertical-align: top;\n",
       "    }\n",
       "\n",
       "    .dataframe thead th {\n",
       "        text-align: right;\n",
       "    }\n",
       "</style>\n",
       "<table border=\"1\" class=\"dataframe\">\n",
       "  <thead>\n",
       "    <tr style=\"text-align: right;\">\n",
       "      <th></th>\n",
       "      <th>date</th>\n",
       "      <th>day</th>\n",
       "      <th>month</th>\n",
       "      <th>quarter</th>\n",
       "      <th>year</th>\n",
       "      <th>week_of_year</th>\n",
       "      <th>month_name</th>\n",
       "      <th>day_of_week</th>\n",
       "      <th>day_name</th>\n",
       "      <th>date_id</th>\n",
       "    </tr>\n",
       "  </thead>\n",
       "  <tbody>\n",
       "    <tr>\n",
       "      <th>0</th>\n",
       "      <td>2018-01-01</td>\n",
       "      <td>1</td>\n",
       "      <td>1</td>\n",
       "      <td>1</td>\n",
       "      <td>2018</td>\n",
       "      <td>1</td>\n",
       "      <td>January</td>\n",
       "      <td>0</td>\n",
       "      <td>Monday</td>\n",
       "      <td>1</td>\n",
       "    </tr>\n",
       "    <tr>\n",
       "      <th>1</th>\n",
       "      <td>2018-01-02</td>\n",
       "      <td>2</td>\n",
       "      <td>1</td>\n",
       "      <td>1</td>\n",
       "      <td>2018</td>\n",
       "      <td>1</td>\n",
       "      <td>January</td>\n",
       "      <td>1</td>\n",
       "      <td>Tuesday</td>\n",
       "      <td>2</td>\n",
       "    </tr>\n",
       "    <tr>\n",
       "      <th>2</th>\n",
       "      <td>2018-01-03</td>\n",
       "      <td>3</td>\n",
       "      <td>1</td>\n",
       "      <td>1</td>\n",
       "      <td>2018</td>\n",
       "      <td>1</td>\n",
       "      <td>January</td>\n",
       "      <td>2</td>\n",
       "      <td>Wednesday</td>\n",
       "      <td>3</td>\n",
       "    </tr>\n",
       "  </tbody>\n",
       "</table>\n",
       "</div>"
      ],
      "text/plain": [
       "        date  day  month  quarter  year  week_of_year month_name  day_of_week  \\\n",
       "0 2018-01-01    1      1        1  2018             1    January            0   \n",
       "1 2018-01-02    2      1        1  2018             1    January            1   \n",
       "2 2018-01-03    3      1        1  2018             1    January            2   \n",
       "\n",
       "    day_name  date_id  \n",
       "0     Monday        1  \n",
       "1    Tuesday        2  \n",
       "2  Wednesday        3  "
      ]
     },
     "execution_count": 9,
     "metadata": {},
     "output_type": "execute_result"
    }
   ],
   "source": [
    "# init date range\n",
    "dates = pd.date_range(start='2018-01-01', end='2023-12-31')\n",
    "\n",
    "dim_Dates = pd.DataFrame({'date': dates, 'day': dates.day, 'month': dates.month, 'quarter': dates.quarter, 'year': dates.year})\n",
    "\n",
    "dim_Dates['week_of_year'] = dim_Dates['date'].dt.isocalendar().week\n",
    "dim_Dates['month_name'] = dim_Dates['date'].dt.strftime('%B')\n",
    "\n",
    "dim_Dates['day_of_week'] = dim_Dates['date'].dt.weekday\n",
    "dim_Dates['day_name'] = dim_Dates['date'].dt.strftime('%A')\n",
    "\n",
    "# set indexes\n",
    "dim_Dates = dim_Dates.reset_index(drop = True)\n",
    "dim_Dates['date_id'] = dim_Dates.index + 1\n",
    "\n",
    "dim_Dates.head(3)"
   ]
  },
  {
   "attachments": {},
   "cell_type": "markdown",
   "metadata": {},
   "source": [
    "Fct_Cancelation_Policy - fact table"
   ]
  },
  {
   "cell_type": "code",
   "execution_count": 10,
   "metadata": {
    "execution": {
     "iopub.execute_input": "2023-05-14T09:24:39.463210Z",
     "iopub.status.busy": "2023-05-14T09:24:39.461342Z",
     "iopub.status.idle": "2023-05-14T09:24:39.483231Z",
     "shell.execute_reply": "2023-05-14T09:24:39.484234Z"
    }
   },
   "outputs": [
    {
     "data": {
      "text/html": [
       "<div>\n",
       "<style scoped>\n",
       "    .dataframe tbody tr th:only-of-type {\n",
       "        vertical-align: middle;\n",
       "    }\n",
       "\n",
       "    .dataframe tbody tr th {\n",
       "        vertical-align: top;\n",
       "    }\n",
       "\n",
       "    .dataframe thead th {\n",
       "        text-align: right;\n",
       "    }\n",
       "</style>\n",
       "<table border=\"1\" class=\"dataframe\">\n",
       "  <thead>\n",
       "    <tr style=\"text-align: right;\">\n",
       "      <th></th>\n",
       "      <th>cancelation_id</th>\n",
       "      <th>apartment_id</th>\n",
       "      <th>date_id</th>\n",
       "      <th># of days pre booked</th>\n",
       "      <th>avg_rate_per_reservation</th>\n",
       "      <th>Earnings after Tax</th>\n",
       "      <th># of days cancel</th>\n",
       "      <th>Status</th>\n",
       "    </tr>\n",
       "  </thead>\n",
       "  <tbody>\n",
       "    <tr>\n",
       "      <th>0</th>\n",
       "      <td>1</td>\n",
       "      <td>3</td>\n",
       "      <td>519</td>\n",
       "      <td>65</td>\n",
       "      <td>31.95</td>\n",
       "      <td>63.90</td>\n",
       "      <td>0.0</td>\n",
       "      <td>Confirmed</td>\n",
       "    </tr>\n",
       "    <tr>\n",
       "      <th>1</th>\n",
       "      <td>2</td>\n",
       "      <td>3</td>\n",
       "      <td>521</td>\n",
       "      <td>31</td>\n",
       "      <td>31.95</td>\n",
       "      <td>63.90</td>\n",
       "      <td>0.0</td>\n",
       "      <td>Confirmed</td>\n",
       "    </tr>\n",
       "    <tr>\n",
       "      <th>2</th>\n",
       "      <td>3</td>\n",
       "      <td>3</td>\n",
       "      <td>524</td>\n",
       "      <td>60</td>\n",
       "      <td>31.95</td>\n",
       "      <td>31.95</td>\n",
       "      <td>0.0</td>\n",
       "      <td>Confirmed</td>\n",
       "    </tr>\n",
       "  </tbody>\n",
       "</table>\n",
       "</div>"
      ],
      "text/plain": [
       "   cancelation_id  apartment_id  date_id  # of days pre booked  \\\n",
       "0               1             3      519                    65   \n",
       "1               2             3      521                    31   \n",
       "2               3             3      524                    60   \n",
       "\n",
       "   avg_rate_per_reservation  Earnings after Tax  # of days cancel     Status  \n",
       "0                     31.95               63.90               0.0  Confirmed  \n",
       "1                     31.95               63.90               0.0  Confirmed  \n",
       "2                     31.95               31.95               0.0  Confirmed  "
      ]
     },
     "execution_count": 10,
     "metadata": {},
     "output_type": "execute_result"
    }
   ],
   "source": [
    "fct_Cancelation_Policy = df_merged.copy()\n",
    "\n",
    "fct_Cancelation_Policy.rename(columns={\"Start date\": \"date\"}, inplace=True)\n",
    "fct_Cancelation_Policy = fct_Cancelation_Policy.merge(dim_Dates[[\"date_id\", \"date\"]], on='date', how='left')\n",
    "\n",
    "fct_Cancelation_Policy = fct_Cancelation_Policy.reset_index(drop = True)\n",
    "fct_Cancelation_Policy['cancelation_id'] = fct_Cancelation_Policy.index + 1\n",
    "\n",
    "fct_Cancelation_Policy = fct_Cancelation_Policy[[\"cancelation_id\", \"apartment_id\", \"date_id\", \"# of days pre booked\", 'avg_rate_per_reservation', \"Earnings after Tax\", \"# of days cancel\", \"Status\"]]\n",
    "fct_Cancelation_Policy.head(3)"
   ]
  },
  {
   "cell_type": "code",
   "execution_count": 11,
   "metadata": {
    "execution": {
     "iopub.execute_input": "2023-05-14T09:24:39.488196Z",
     "iopub.status.busy": "2023-05-14T09:24:39.487231Z",
     "iopub.status.idle": "2023-05-14T09:24:39.500233Z",
     "shell.execute_reply": "2023-05-14T09:24:39.500233Z"
    }
   },
   "outputs": [],
   "source": [
    "def replace_values(num):\n",
    "    if 0 <= num <= 2:\n",
    "        return 1\n",
    "    elif 3 <= num <= 7:\n",
    "        return 2\n",
    "    elif 8 <= num <= 14:\n",
    "        return 3\n",
    "    elif 15 <= num <= 30:\n",
    "        return 4\n",
    "    elif 31 <= num <= 60:\n",
    "        return 5\n",
    "    else:\n",
    "        return 6"
   ]
  },
  {
   "cell_type": "code",
   "execution_count": 12,
   "metadata": {
    "execution": {
     "iopub.execute_input": "2023-05-14T09:24:39.511232Z",
     "iopub.status.busy": "2023-05-14T09:24:39.505244Z",
     "iopub.status.idle": "2023-05-14T09:24:39.516238Z",
     "shell.execute_reply": "2023-05-14T09:24:39.516238Z"
    }
   },
   "outputs": [
    {
     "data": {
      "text/html": [
       "<div>\n",
       "<style scoped>\n",
       "    .dataframe tbody tr th:only-of-type {\n",
       "        vertical-align: middle;\n",
       "    }\n",
       "\n",
       "    .dataframe tbody tr th {\n",
       "        vertical-align: top;\n",
       "    }\n",
       "\n",
       "    .dataframe thead th {\n",
       "        text-align: right;\n",
       "    }\n",
       "</style>\n",
       "<table border=\"1\" class=\"dataframe\">\n",
       "  <thead>\n",
       "    <tr style=\"text-align: right;\">\n",
       "      <th></th>\n",
       "      <th>cancelation_pol_id</th>\n",
       "      <th>apartment_id</th>\n",
       "      <th>date_id</th>\n",
       "      <th>avg_rate_per_reservation</th>\n",
       "      <th>total_price</th>\n",
       "      <th>Status</th>\n",
       "      <th>prebook_id</th>\n",
       "      <th>cancel_id</th>\n",
       "    </tr>\n",
       "  </thead>\n",
       "  <tbody>\n",
       "    <tr>\n",
       "      <th>0</th>\n",
       "      <td>1</td>\n",
       "      <td>3</td>\n",
       "      <td>519</td>\n",
       "      <td>31.95</td>\n",
       "      <td>63.90</td>\n",
       "      <td>Confirmed</td>\n",
       "      <td>6</td>\n",
       "      <td>1</td>\n",
       "    </tr>\n",
       "    <tr>\n",
       "      <th>1</th>\n",
       "      <td>2</td>\n",
       "      <td>3</td>\n",
       "      <td>521</td>\n",
       "      <td>31.95</td>\n",
       "      <td>63.90</td>\n",
       "      <td>Confirmed</td>\n",
       "      <td>5</td>\n",
       "      <td>1</td>\n",
       "    </tr>\n",
       "    <tr>\n",
       "      <th>2</th>\n",
       "      <td>3</td>\n",
       "      <td>3</td>\n",
       "      <td>524</td>\n",
       "      <td>31.95</td>\n",
       "      <td>31.95</td>\n",
       "      <td>Confirmed</td>\n",
       "      <td>5</td>\n",
       "      <td>1</td>\n",
       "    </tr>\n",
       "  </tbody>\n",
       "</table>\n",
       "</div>"
      ],
      "text/plain": [
       "   cancelation_pol_id  apartment_id  date_id  avg_rate_per_reservation  \\\n",
       "0                   1             3      519                     31.95   \n",
       "1                   2             3      521                     31.95   \n",
       "2                   3             3      524                     31.95   \n",
       "\n",
       "   total_price     Status  prebook_id  cancel_id  \n",
       "0        63.90  Confirmed           6          1  \n",
       "1        63.90  Confirmed           5          1  \n",
       "2        31.95  Confirmed           5          1  "
      ]
     },
     "execution_count": 12,
     "metadata": {},
     "output_type": "execute_result"
    }
   ],
   "source": [
    "fct_Cancelation_Policy[\"prebook_id\"] = fct_Cancelation_Policy[\"# of days pre booked\"].apply(replace_values)\n",
    "fct_Cancelation_Policy[\"cancel_id\"] = fct_Cancelation_Policy[\"# of days cancel\"].apply(replace_values)\n",
    "\n",
    "fct_Cancelation_Policy.drop(columns=[\"# of days pre booked\", \"# of days cancel\"], inplace=True)\n",
    "fct_Cancelation_Policy.rename(columns={\"cancelation_id\": \"cancelation_pol_id\",\"Earnings after Tax\": \"total_price\"}, inplace=True)\n",
    "\n",
    "fct_Cancelation_Policy.head(3)"
   ]
  },
  {
   "cell_type": "code",
   "execution_count": 13,
   "metadata": {
    "execution": {
     "iopub.execute_input": "2023-05-14T09:24:39.533237Z",
     "iopub.status.busy": "2023-05-14T09:24:39.521231Z",
     "iopub.status.idle": "2023-05-14T09:24:39.547339Z",
     "shell.execute_reply": "2023-05-14T09:24:39.547339Z"
    }
   },
   "outputs": [
    {
     "data": {
      "text/html": [
       "<div>\n",
       "<style scoped>\n",
       "    .dataframe tbody tr th:only-of-type {\n",
       "        vertical-align: middle;\n",
       "    }\n",
       "\n",
       "    .dataframe tbody tr th {\n",
       "        vertical-align: top;\n",
       "    }\n",
       "\n",
       "    .dataframe thead th {\n",
       "        text-align: right;\n",
       "    }\n",
       "</style>\n",
       "<table border=\"1\" class=\"dataframe\">\n",
       "  <thead>\n",
       "    <tr style=\"text-align: right;\">\n",
       "      <th></th>\n",
       "      <th>cancelation_pol_id</th>\n",
       "      <th>apartment_id</th>\n",
       "      <th>date_id</th>\n",
       "      <th>prebook_id</th>\n",
       "      <th>cancel_id</th>\n",
       "      <th>Status</th>\n",
       "      <th>avg_rate_per_reservation</th>\n",
       "      <th>total_price</th>\n",
       "    </tr>\n",
       "  </thead>\n",
       "  <tbody>\n",
       "    <tr>\n",
       "      <th>0</th>\n",
       "      <td>1</td>\n",
       "      <td>3</td>\n",
       "      <td>519</td>\n",
       "      <td>6</td>\n",
       "      <td>1</td>\n",
       "      <td>Confirmed</td>\n",
       "      <td>31.95</td>\n",
       "      <td>63.90</td>\n",
       "    </tr>\n",
       "    <tr>\n",
       "      <th>1</th>\n",
       "      <td>2</td>\n",
       "      <td>3</td>\n",
       "      <td>521</td>\n",
       "      <td>5</td>\n",
       "      <td>1</td>\n",
       "      <td>Confirmed</td>\n",
       "      <td>31.95</td>\n",
       "      <td>63.90</td>\n",
       "    </tr>\n",
       "    <tr>\n",
       "      <th>2</th>\n",
       "      <td>3</td>\n",
       "      <td>3</td>\n",
       "      <td>524</td>\n",
       "      <td>5</td>\n",
       "      <td>1</td>\n",
       "      <td>Confirmed</td>\n",
       "      <td>31.95</td>\n",
       "      <td>31.95</td>\n",
       "    </tr>\n",
       "  </tbody>\n",
       "</table>\n",
       "</div>"
      ],
      "text/plain": [
       "   cancelation_pol_id  apartment_id  date_id  prebook_id  cancel_id  \\\n",
       "0                   1             3      519           6          1   \n",
       "1                   2             3      521           5          1   \n",
       "2                   3             3      524           5          1   \n",
       "\n",
       "      Status  avg_rate_per_reservation  total_price  \n",
       "0  Confirmed                     31.95        63.90  \n",
       "1  Confirmed                     31.95        63.90  \n",
       "2  Confirmed                     31.95        31.95  "
      ]
     },
     "execution_count": 13,
     "metadata": {},
     "output_type": "execute_result"
    }
   ],
   "source": [
    "fct_Cancelation_Policy = fct_Cancelation_Policy[[\"cancelation_pol_id\", \"apartment_id\", \"date_id\", \"prebook_id\", \"cancel_id\", \"Status\", \"avg_rate_per_reservation\", \"total_price\"]] \n",
    "\n",
    "# we only need cancelled and confirmed reservations\n",
    "fct_Cancelation_Policy = fct_Cancelation_Policy[fct_Cancelation_Policy[\"Status\"].isin([\"Confirmed\", \"Cancelled\"])]\n",
    "fct_Cancelation_Policy.head(3)"
   ]
  },
  {
   "attachments": {},
   "cell_type": "markdown",
   "metadata": {},
   "source": [
    "Checking how many Cancelled and Confirmed reservations there are"
   ]
  },
  {
   "cell_type": "code",
   "execution_count": 14,
   "metadata": {
    "execution": {
     "iopub.execute_input": "2023-05-14T09:24:39.552304Z",
     "iopub.status.busy": "2023-05-14T09:24:39.551303Z",
     "iopub.status.idle": "2023-05-14T09:24:39.564548Z",
     "shell.execute_reply": "2023-05-14T09:24:39.564548Z"
    }
   },
   "outputs": [
    {
     "data": {
      "text/plain": [
       "Confirmed    247\n",
       "Cancelled      5\n",
       "Name: Status, dtype: int64"
      ]
     },
     "execution_count": 14,
     "metadata": {},
     "output_type": "execute_result"
    }
   ],
   "source": [
    "value_counts = fct_Cancelation_Policy[\"Status\"].value_counts()\n",
    "value_counts"
   ]
  },
  {
   "attachments": {},
   "cell_type": "markdown",
   "metadata": {},
   "source": [
    "## Load tables to DW"
   ]
  },
  {
   "attachments": {},
   "cell_type": "markdown",
   "metadata": {},
   "source": [
    "Defining function to make connection to PostgreSQL server"
   ]
  },
  {
   "cell_type": "code",
   "execution_count": 15,
   "metadata": {
    "execution": {
     "iopub.execute_input": "2023-05-14T09:24:39.569544Z",
     "iopub.status.busy": "2023-05-14T09:24:39.569544Z",
     "iopub.status.idle": "2023-05-14T09:24:39.578229Z",
     "shell.execute_reply": "2023-05-14T09:24:39.578229Z"
    }
   },
   "outputs": [],
   "source": [
    "def load(df, tbl):\n",
    "    try:\n",
    "        rows_imported = 0\n",
    "        engine = create_engine(f'postgresql://{uid}:{pwd}@{server}:5432/DW_Reservation_System')\n",
    "        print(f'importing rows {rows_imported} to {rows_imported + len(df)}... for table {tbl}')\n",
    "        # save df to postgres\n",
    "        df.to_sql(f'{tbl}', engine, if_exists = \"replace\", index = False)\n",
    "        rows_imported += len(df)\n",
    "        print('Data imported sucessfully!')\n",
    "    except Exception as e:\n",
    "        print('Data load error: ' + str(e))"
   ]
  },
  {
   "attachments": {},
   "cell_type": "markdown",
   "metadata": {},
   "source": [
    "Forwarding data frames, table names and connection parameters"
   ]
  },
  {
   "cell_type": "code",
   "execution_count": 16,
   "metadata": {
    "execution": {
     "iopub.execute_input": "2023-05-14T09:24:39.582192Z",
     "iopub.status.busy": "2023-05-14T09:24:39.582192Z",
     "iopub.status.idle": "2023-05-14T09:24:39.598195Z",
     "shell.execute_reply": "2023-05-14T09:24:39.598195Z"
    }
   },
   "outputs": [],
   "source": [
    "uid, pwd, server = \"etl\", \"pass\", \"localhost\"\n",
    "\n",
    "# we dont need time and apartment tables, as thei were already loaded in first theme\n",
    "dataframes_to_load = [ Dim_Days_Prebooked, Dim_No_Days_Cancelled, fct_Cancelation_Policy]\n",
    "table_names = [\"Dim_Days_Prebooked\", \"Dim_No_Days_Cancelled\", \"fct_Cancelation_Policy\"]"
   ]
  },
  {
   "cell_type": "code",
   "execution_count": 17,
   "metadata": {
    "execution": {
     "iopub.execute_input": "2023-05-14T09:24:39.603229Z",
     "iopub.status.busy": "2023-05-14T09:24:39.603229Z",
     "iopub.status.idle": "2023-05-14T09:24:40.019241Z",
     "shell.execute_reply": "2023-05-14T09:24:40.019241Z"
    }
   },
   "outputs": [
    {
     "name": "stdout",
     "output_type": "stream",
     "text": [
      "importing rows 0 to 6... for table Dim_Days_Prebooked\n",
      "Data imported sucessfully!\n",
      "importing rows 0 to 6... for table Dim_No_Days_Cancelled\n",
      "Data imported sucessfully!\n",
      "importing rows 0 to 252... for table fct_Cancelation_Policy\n",
      "Data imported sucessfully!\n"
     ]
    }
   ],
   "source": [
    "for df, tbl in zip(dataframes_to_load, table_names):\n",
    "    load(df, tbl)"
   ]
  }
 ],
 "metadata": {
  "kernelspec": {
   "display_name": "base",
   "language": "python",
   "name": "python3"
  },
  "language_info": {
   "codemirror_mode": {
    "name": "ipython",
    "version": 3
   },
   "file_extension": ".py",
   "mimetype": "text/x-python",
   "name": "python",
   "nbconvert_exporter": "python",
   "pygments_lexer": "ipython3",
   "version": "3.9.7"
  }
 },
 "nbformat": 4,
 "nbformat_minor": 2
}
